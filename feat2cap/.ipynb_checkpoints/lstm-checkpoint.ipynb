{
 "cells": [
  {
   "cell_type": "code",
   "execution_count": null,
   "metadata": {
    "id": "_rJKQVidXAn5"
   },
   "outputs": [],
   "source": [
    "# !pip uninstall Keras\n",
    "# !pip uninstall tensorflow"
   ]
  },
  {
   "cell_type": "code",
   "execution_count": null,
   "metadata": {
    "id": "yVI42NMwzzRq"
   },
   "outputs": [],
   "source": [
    "# !pip install tensorflow\n",
    "# !pip install Keras"
   ]
  },
  {
   "cell_type": "code",
   "execution_count": 198,
   "metadata": {
    "id": "rF8P7MZMzM1A"
   },
   "outputs": [],
   "source": [
    "import tensorflow as tf\n",
    "from tensorflow import keras"
   ]
  },
  {
   "cell_type": "code",
   "execution_count": 199,
   "metadata": {
    "colab": {
     "base_uri": "https://localhost:8080/"
    },
    "id": "CvUCEQ1iWgz0",
    "outputId": "d79b2edb-add5-4042-dbed-b2c7d090dc04"
   },
   "outputs": [
    {
     "name": "stdout",
     "output_type": "stream",
     "text": [
      "python 3.7.13 (default, Apr 24 2022, 01:04:09) \n",
      "[GCC 7.5.0]\n",
      "keras version 2.8.0\n",
      "tensorflow version 2.8.0\n"
     ]
    }
   ],
   "source": [
    "import matplotlib.pyplot as plt\n",
    "from keras.backend import set_session\n",
    "import keras\n",
    "import sys, time, os, warnings \n",
    "import numpy as np\n",
    "import pandas as pd \n",
    "from collections import Counter \n",
    "warnings.filterwarnings(\"ignore\")\n",
    "print(\"python {}\".format(sys.version))\n",
    "print(\"keras version {}\".format(keras.__version__)); del keras\n",
    "print(\"tensorflow version {}\".format(tf.__version__))\n",
    "config = tf.compat.v1.ConfigProto()\n",
    "config.gpu_options.per_process_gpu_memory_fraction = 0.95\n",
    "config.gpu_options.visible_device_list = \"0\"\n",
    "set_session(tf.compat.v1.Session(config=config))\n",
    "\n",
    "def set_seed(sd=123):\n",
    "    from numpy.random import seed\n",
    "    from tensorflow import set_random_seed\n",
    "    import random as rn\n",
    "    ## numpy random seed\n",
    "    seed(sd)\n",
    "    ## core python's random number \n",
    "    rn.seed(sd)\n",
    "    ## tensor flow's random number\n",
    "    set_random_seed(sd)"
   ]
  },
  {
   "cell_type": "code",
   "execution_count": 200,
   "metadata": {
    "colab": {
     "base_uri": "https://localhost:8080/",
     "height": 53
    },
    "id": "mmrHLlKdWrUJ",
    "outputId": "3c9421d2-e17d-4b40-910a-7c53d924907c"
   },
   "outputs": [
    {
     "name": "stdout",
     "output_type": "stream",
     "text": [
      "Drive already mounted at /content/gdrive; to attempt to forcibly remount, call drive.mount(\"/content/gdrive\", force_remount=True).\n"
     ]
    },
    {
     "data": {
      "application/vnd.google.colaboratory.intrinsic+json": {
       "type": "string"
      },
      "text/plain": [
       "''"
      ]
     },
     "execution_count": 200,
     "metadata": {},
     "output_type": "execute_result"
    }
   ],
   "source": [
    "# import tensorflow as tf\n",
    "from google.colab import drive\n",
    "\n",
    "drive.mount(\"/content/gdrive\")\n",
    "\n",
    "tf.test.gpu_device_name()"
   ]
  },
  {
   "cell_type": "code",
   "execution_count": 201,
   "metadata": {
    "id": "UlUzIS7LWtRD"
   },
   "outputs": [],
   "source": [
    "location = \"/content/gdrive/My Drive/Colab Notebooks/CogSci_Project/\""
   ]
  },
  {
   "cell_type": "code",
   "execution_count": 202,
   "metadata": {
    "colab": {
     "base_uri": "https://localhost:8080/"
    },
    "id": "twRkPKA5X5IH",
    "outputId": "64d12b17-0195-4124-86f9-e4fb3e9d86a0"
   },
   "outputs": [
    {
     "name": "stdout",
     "output_type": "stream",
     "text": [
      "4916\n"
     ]
    }
   ],
   "source": [
    "import pickle\n",
    "\n",
    "data = np.load(location + 'features/resnet_feat.npy',allow_pickle=True)\n",
    "data_dict = dict(enumerate(data.flatten(), 1))[1]\n",
    "print(len(list(data_dict.keys())))"
   ]
  },
  {
   "cell_type": "code",
   "execution_count": 203,
   "metadata": {
    "id": "LaXB7nE-X5Ku"
   },
   "outputs": [],
   "source": [
    "# layers_resnet = ['block1','block2','block3','block4']\n",
    "layers_resnet = ['block1','block3','block4']"
   ]
  },
  {
   "cell_type": "markdown",
   "metadata": {
    "id": "1XELECJRaDMZ"
   },
   "source": [
    "## **Getting captions from COCO**\n",
    "\n",
    "\n",
    "\n",
    "---\n",
    "\n"
   ]
  },
  {
   "cell_type": "code",
   "execution_count": 204,
   "metadata": {
    "colab": {
     "base_uri": "https://localhost:8080/"
    },
    "id": "ZgS23UdSX5Mu",
    "outputId": "ec6d8909-b6fc-4b17-b362-132e0d71773c"
   },
   "outputs": [
    {
     "name": "stdout",
     "output_type": "stream",
     "text": [
      "loading annotations into memory...\n",
      "Done (t=1.54s)\n",
      "creating index...\n",
      "index created!\n",
      "loading annotations into memory...\n",
      "Done (t=1.45s)\n",
      "creating index...\n",
      "index created!\n"
     ]
    }
   ],
   "source": [
    "from pycocotools.coco import COCO\n",
    "\n",
    "root_path = location + \"captions/English/\"\n",
    "\n",
    "files = [\"captions_train2014.json\", \n",
    "         \"captions_val2014.json\"]  \n",
    "\n",
    "captions_file = root_path + \"captions_train2014.json\"\n",
    "coco_caps_train = COCO(captions_file)\n",
    "\n",
    "captions_file = root_path + \"captions_val2014.json\"\n",
    "coco_caps_val = COCO(captions_file)"
   ]
  },
  {
   "cell_type": "code",
   "execution_count": 205,
   "metadata": {
    "colab": {
     "base_uri": "https://localhost:8080/"
    },
    "id": "x82o2_NdX5PL",
    "outputId": "534338f7-a719-44e2-9cbc-a976cc3d01d0"
   },
   "outputs": [
    {
     "name": "stdout",
     "output_type": "stream",
     "text": [
      "[48, 67, 126, 148, 173, 188, 219, 255, 272, 288]\n",
      "{'image_id': 318556, 'id': 48, 'caption': 'A very clean and well decorated empty bathroom'}\n",
      "414113\n"
     ]
    }
   ],
   "source": [
    "coco_caps_anns = dict()\n",
    "\n",
    "for key in coco_caps_val.anns:\n",
    "    coco_caps_anns[key] = coco_caps_val.anns[key]\n",
    "    \n",
    "for key in coco_caps_train.anns:\n",
    "    coco_caps_anns[key] = coco_caps_train.anns[key]\n",
    "    \n",
    "print((list(coco_caps_anns.keys())[:10]))\n",
    "print(coco_caps_anns[48])\n",
    "print(len(coco_caps_anns))"
   ]
  },
  {
   "cell_type": "code",
   "execution_count": 269,
   "metadata": {
    "colab": {
     "base_uri": "https://localhost:8080/"
    },
    "id": "ZQB4yjyEesI6",
    "outputId": "2abf6317-b338-4a5d-85d4-9d31f364fe1c"
   },
   "outputs": [
    {
     "name": "stdout",
     "output_type": "stream",
     "text": [
      "2000\n"
     ]
    }
   ],
   "source": [
    "bold_img_ids = [420713, 488558, 29114, 539340, 176728, 531657, 32271, 285450, 211198, 431764, 323936, 442793, 325346, 271568, 455486, 42861, 273559, 307475, 136338, 48201, 319611, 35927, 395740, 1496, 425712, 201246, 118087, 275335, 90569, 425135, 15183, 29730, 184822, 157342, 152328, 192631, 346754, 15249, 16344, 461208, 224396, 166504, 85122, 383641, 338169, 278714, 531828, 137706, 253550, 103366, 135032, 558278, 55090, 231572, 162230, 243839, 322246, 3521, 81042, 391892, 397815, 363084, 404007, 195027, 347133, 412200, 559145, 194108, 31053, 173883, 69705, 223319, 574735, 444018, 119550, 325079, 222921, 110142, 499730, 396550, 6765, 265150, 27030, 469754, 64148, 182642, 430523, 445670, 174504, 462505, 224869, 455657, 179480, 18367, 521884, 47780, 274776, 517625, 574760, 232277, 577964, 31078, 293368, 547186, 371353, 65400, 162182, 452279, 174303, 572000, 10710, 246453, 84529, 493578, 328036, 369230, 505420, 472865, 439576, 476380, 9983, 335063, 520259, 41340, 12795, 151414, 73172, 142958, 274685, 90201, 474157, 546147, 190566, 291599, 468394, 312003, 434069, 219294, 498615, 166082, 358868, 54736, 552630, 62387, 265453, 269483, 301603, 278555, 462925, 293130, 461561, 139344, 294233, 257690, 481157, 364280, 516517, 44267, 37358, 26645, 146725, 29323, 196777, 404296, 544738, 481521, 80084, 292034, 71550, 535250, 66696, 78042, 32275, 215291, 87285, 81365, 284987, 83393, 336804, 282707, 511165, 185262, 138785, 214821, 16314, 485465, 59321, 399984, 405544, 35357, 118306, 242979, 71328, 197118, 565501, 407102, 451701, 17935, 221685, 122560, 195768, 270325, 114077, 553872, 152564, 575971, 459190, 105708, 108085, 517484, 569645, 95258, 62763, 245598, 292349, 279197, 379713, 190487, 538822, 533231, 66253, 239828, 43829, 391615, 564465, 418115, 497464, 354095, 304092, 27298, 395758, 87334, 239013, 575164, 480990, 79503, 429620, 411475, 555457, 435848, 68623, 448401, 135094, 43856, 551275, 496335, 343992, 237093, 525932, 150931, 517251, 322255, 23419, 475236, 112805, 114846, 308950, 272901, 172582, 160181, 404270, 321304, 130222, 528664, 80619, 33764, 346877, 219735, 294834, 46753, 180609, 65029, 367048, 363137, 528882, 116603, 71927, 364683, 208730, 161354, 15823, 139815, 463320, 505057, 535994, 22166, 470999, 50624, 286690, 225829, 263599, 333152, 560396, 437516, 498443, 22627, 105358, 381629, 55764, 170962, 238001, 276853, 57796, 401251, 181468, 119761, 91637, 225054, 160000, 165969, 505863, 52846, 132297, 565875, 566261, 541077, 357228, 166489, 329641, 521923, 545950, 372775, 64534, 284778, 443003, 243000, 27665, 147547, 568495, 322105, 357470, 262012, 169217, 2270, 32809, 260581, 488295, 86725, 345813, 330084, 498645, 186145, 133281, 390414, 254130, 87146, 449032, 319685, 113787, 209229, 374796, 317061, 440792, 157231, 207833, 118680, 359687, 444043, 413472, 404823, 159680, 131763, 22256, 475840, 390311, 419586, 100396, 579065, 352191, 281567, 36341, 572215, 2372, 367423, 445351, 267699, 160735, 465412, 150196, 126770, 125725, 119036, 366802, 240278, 402057, 11299, 523968, 571948, 67572, 39460, 55184, 227451, 270278, 36151, 323397, 539705, 288372, 450383, 95020, 363806, 412855, 289791, 352236, 81995, 311232, 101877, 409173, 292585, 204969, 218179, 336764, 445323, 89908, 51835, 558822, 276854, 577817, 321964, 59194, 285460, 334958, 605, 408664, 26443, 336935, 155951, 441172, 106874, 424110, 87126, 37823, 125042, 445726, 340734, 167346, 431825, 505661, 30148, 131979, 341087, 372247, 124456, 547284, 390120, 549729, 419759, 100863, 90827, 399835, 550221, 55514, 58407, 393738, 172805, 117542, 404997, 194054, 24591, 228380, 134779, 61918, 501739, 570785, 360605, 481702, 366396, 22964, 191734, 430850, 20517, 417700, 224483, 576727, 244476, 425283, 276664, 96157, 77870, 413154, 267338, 557886, 368125, 391678, 197068, 22298, 81476, 584, 7953, 110611, 60117, 443377, 536786, 551164, 433657, 402095, 7567, 66014, 546242, 189765, 463299, 501867, 67347, 554486, 557037, 307156, 256334, 309135, 130973, 401699, 142803, 415608, 28367, 280158, 524646, 418409, 368852, 466827, 180639, 266622, 543254, 486503, 453547, 83738, 228518, 528667, 264396, 99363, 212440, 572250, 171479, 100223, 2402, 142418, 129143, 292678, 53778, 97021, 540735, 319626, 501926, 128475, 468771, 298468, 559816, 382118, 411778, 216539, 565857, 445301, 449914, 509292, 387750, 45659, 112734, 396625, 542304, 523334, 370979, 550313, 407676, 228671, 562100, 213838, 68996, 484761, 329012, 497797, 161499, 46024, 86065, 362677, 488487, 207805, 109145, 439241, 22696, 227307, 74835, 6773, 26800, 298139, 338987, 165106, 568462, 532520, 74574, 480403, 516268, 396638, 40685, 554688, 405730, 220889, 23718, 95828, 412857, 359085, 40008, 104044, 559958, 325545, 563929, 201758, 252160, 441891, 92288, 242133, 346795, 231102, 323010, 303637, 73302, 429902, 263276, 264316, 19542, 363719, 6268, 202326, 504289, 223447, 110780, 102989, 26388, 115777, 439139, 399162, 282137, 300383, 261858, 157125, 491140, 189888, 178031, 55402, 474545, 365003, 354761, 151163, 44129, 148263, 113593, 277778, 97201, 409069, 569678, 148634, 143420, 335824, 16898, 127986, 228565, 282032, 61174, 290192, 33727, 331607, 359033, 340488, 140347, 505657, 346310, 121446, 275902, 70487, 225533, 382890, 437967, 8677, 56283, 485502, 469445, 460408, 319136, 336374, 140946, 54001, 134028, 523272, 456035, 196584, 173833, 526980, 530082, 243102, 251016, 157700, 195180, 559560, 318299, 556748, 492851, 408492, 567837, 156084, 486717, 402507, 94885, 488002, 46372, 120655, 389154, 511127, 446801, 357865, 42578, 347933, 9987, 413115, 292436, 490875, 336040, 153394, 143594, 38370, 179159, 93816, 537687, 451976, 226527, 210751, 289460, 108859, 429887, 107197, 556154, 540577, 149810, 299180, 147694, 478599, 197401, 355458, 150559, 56109, 502470, 304440, 492648, 566214, 379052, 334700, 274108, 331203, 65769, 139817, 125703, 475316, 234383, 493474, 495040, 515928, 95809, 38801, 282957, 403789, 560054, 503779, 491228, 254510, 560489, 485595, 170968, 198977, 340283, 376643, 230014, 1877, 71429, 273250, 417264, 57699, 570016, 342742, 338439, 71502, 159562, 281330, 515508, 87871, 234903, 77851, 355622, 296225, 245590, 43776, 543947, 262239, 403184, 106498, 491611, 52348, 298170, 329474, 361197, 64492, 424979, 202805, 357074, 5028, 558788, 790, 245946, 10743, 469816, 310870, 458057, 208849, 84174, 442489, 278060, 122959, 460118, 192852, 1408, 32474, 5684, 151049, 555915, 119505, 154011, 422473, 136142, 252850, 385864, 81105, 88449, 534267, 543729, 302166, 9988, 388980, 166764, 326161, 316583, 82770, 520100, 426997, 296267, 131011, 329919, 509269, 487825, 214059, 185225, 285307, 380227, 212229, 537232, 438751, 67623, 454915, 225113, 264735, 179034, 286254, 553506, 115649, 531392, 396942, 285588, 419296, 502860, 228316, 369171, 372959, 294744, 4442, 99568, 387318, 368647, 397999, 373970, 106878, 292294, 575701, 319443, 474353, 474827, 30565, 326712, 135316, 461428, 192171, 576011, 23392, 230422, 78593, 175751, 334048, 354897, 369253, 472089, 455691, 206467, 399878, 271183, 376858, 521998, 574784, 250381, 323182, 350299, 377703, 288751, 571499, 534553, 495022, 55206, 400845, 80987, 186338, 36, 81322, 26981, 447130, 146256, 195650, 8027, 200391, 268444, 405215, 333494, 161836, 143245, 183719, 58465, 503616, 47638, 304587, 318444, 64263, 26836, 423222, 475952, 544060, 56647, 21095, 333629, 360424, 50056, 322008, 65012, 332574, 531256, 464964, 174213, 87249, 317090, 418151, 96925, 283678, 380887, 409023, 28116, 204422, 523306, 527618, 412518, 332875, 474859, 36542, 256061, 9024, 349363, 144193, 259414, 203615, 228133, 236048, 231851, 374288, 125575, 163263, 524063, 528231, 267697, 83332, 372535, 307337, 275938, 471871, 541746, 232186, 82945, 451680, 530670, 195816, 368474, 72095, 303436, 55465, 105026, 191740, 163250, 148986, 104081, 6182, 455945, 462254, 21972, 559000, 130914, 438810, 482912, 387575, 326666, 67230, 26702, 561692, 488658, 568927, 570178, 460099, 267647, 256454, 315461, 373666, 373199, 30340, 436578, 564938, 244578, 344729, 432648, 188545, 325710, 7932, 332692, 185888, 84061, 446829, 219750, 302588, 161062, 173538, 154556, 559225, 541258, 233580, 191686, 354070, 289654, 47172, 437832, 423209, 510900, 216029, 33733, 202764, 531515, 239337, 100599, 227928, 17967, 295007, 557848, 510334, 294321, 257976, 281575, 502043, 17856, 356565, 499627, 81474, 380989, 16520, 353270, 150636, 2559, 330086, 159453, 27006, 367552, 260400, 311796, 538470, 265532, 464616, 504888, 477852, 5277, 23253, 485113, 238687, 233104, 392556, 237090, 332261, 261575, 82548, 229821, 335688, 410966, 90994, 19863, 576789, 354791, 196368, 330729, 368370, 176732, 92221, 443883, 109560, 61288, 435902, 170917, 519356, 474342, 541472, 35972, 262690, 167692, 496009, 502823, 298395, 149546, 229233, 523164, 488796, 407778, 535871, 296474, 76476, 399932, 28868, 125117, 312536, 132617, 283426, 543541, 34933, 160142, 16243, 345725, 373679, 265745, 62547, 354045, 571548, 537685, 549256, 388853, 425066, 405516, 232648, 247121, 556491, 388011, 492402, 122811, 495243, 356771, 447457, 549301, 525668, 1308, 273120, 317781, 546140, 181837, 237697, 130876, 426911, 197656, 274978, 261746, 335304, 67053, 401138, 352129, 575121, 41606, 274034, 488089, 176873, 74461, 273138, 356810, 285253, 239739, 56201, 454830, 300704, 303318, 338501, 515102, 375492, 8562, 569196, 415305, 115637, 361648, 97218, 300622, 314379, 348204, 37925, 169262, 576204, 262414, 280808, 124501, 472400, 9474, 91005, 138904, 298008, 573830, 7048, 172426, 549830, 580813, 190992, 367853, 240904, 11373, 92067, 361193, 170485, 450584, 557920, 216378, 231992, 508456, 455020, 337479, 422268, 333615, 139754, 438154, 319747, 254682, 106168, 552589, 490888, 268008, 136111, 514563, 74390, 196365, 224100, 130681, 350358, 198195, 541856, 127377, 79701, 442888, 186828, 213988, 152273, 516516, 81841, 305685, 171328, 455799, 30109, 433826, 376407, 194850, 454565, 43150, 126321, 484528, 526035, 406116, 181038, 444880, 447182, 392115, 334772, 82650, 192576, 460236, 188405, 6053, 201969, 532124, 460198, 482234, 488880, 116588, 297844, 72715, 565652, 267898, 116824, 168803, 129056, 30276, 140590, 164502, 268114, 137150, 359337, 100669, 246166, 522534, 328454, 476481, 369775, 526968, 443575, 215357, 49550, 74714, 492037, 297154, 474964, 390782, 61559, 578843, 514955, 505643, 216197, 385582, 199743, 257164, 179876, 193023, 313480, 450903, 365855, 424138, 92089, 126816, 471315, 550396, 303133, 144817, 185549, 536884, 125586, 99580, 88274, 438045, 139561, 518954, 537393, 198319, 398083, 475306, 515296, 73997, 208267, 502422, 246736, 396793, 149791, 274463, 377576, 433019, 115967, 539967, 406292, 78000, 355922, 300476, 392851, 363605, 382969, 478249, 334216, 293372, 201722, 199126, 242079, 157181, 81363, 327191, 576422, 179019, 166678, 405401, 383652, 312403, 437776, 28093, 178423, 234997, 203868, 98480, 247893, 427729, 27471, 400838, 323970, 114822, 27157, 522946, 264830, 189388, 389582, 14269, 106010, 124747, 292739, 83632, 559908, 314167, 408922, 291560, 74887, 293377, 37165, 49841, 202050, 328628, 95337, 345751, 566201, 238256, 553586, 207751, 96161, 50256, 224759, 348668, 143323, 461187, 287509, 146886, 1625, 426427, 540538, 237372, 203937, 320508, 384235, 55897, 210065, 190964, 195425, 227733, 354185, 236078, 495387, 204806, 354936, 566032, 438429, 466895, 423488, 304187, 251818, 461118, 273771, 79471, 398934, 276545, 29732, 134169, 273887, 237443, 414022, 327281, 412922, 85564, 278962, 190805, 306988, 556542, 229947, 101069, 303392, 453682, 432508, 415911, 650, 468825, 512380, 104502, 148639, 70421, 8471, 98940, 106154, 464935, 128299, 555869, 244646, 188225, 463019, 334953, 237831, 507812, 175715, 106658, 26302, 171564, 413922, 573337, 561677, 37779, 479035, 213288, 406595, 548593, 19665, 108871, 120987, 563029, 354645, 265023, 554759, 129060, 545405, 56341, 12398, 321011, 553166, 221441, 34381, 334011, 248320, 539395, 277956, 497498, 245999, 429818, 382951, 361769, 227843, 56118, 492627, 524211, 189794, 161328, 128167, 541964, 254481, 389103, 366342, 331072, 332448, 414176, 453221, 494552, 9199, 560567, 578154, 366146, 56837, 18078, 175236, 322869, 505738, 163103, 495568, 428605, 225383, 474049, 268659, 561006, 301970, 260871, 171049, 425269, 164564, 277524, 111573, 34961, 545160, 106107, 502441, 245895, 353175, 453586, 458616, 287322, 480601, 154972, 363671, 218302, 354111, 421320, 300072, 42366, 401919, 251084, 279438, 420478, 276956, 105881, 194231, 428691, 291280, 313921, 357203, 450864, 229456, 433021, 408829, 11358, 411130, 167908, 444346, 10903, 253480, 384167, 345608, 51067, 323153, 282987, 134562, 242631, 67961, 88414, 561394, 246792, 275663, 450914, 398540, 349870, 61502, 275380, 18571, 21921, 209931, 385417, 30608, 68238, 516455, 191277, 27710, 215162, 330513, 8053, 327682, 123891, 340317, 190271, 135836, 62219, 182799, 553150, 443940, 215023, 40187, 565166, 505486, 117897, 21826, 174176, 391754, 240128, 315229, 306031, 140724, 52219, 2349, 333820, 404108, 547644, 47198, 330298, 84829, 63482, 318381, 386856, 521416, 523543, 565834, 461458, 467027, 39312, 326357, 224926, 505592, 244967, 485614, 79111, 520515, 120721, 53842, 541164, 61266, 520940, 395775, 225750, 472749, 428726, 547367, 380729, 566341, 82486, 31017, 208805, 122776, 88835, 179914, 75697, 339051, 51774, 168690, 625, 352120, 154207, 13969, 440334, 28930, 467646, 192450, 151307, 119669, 113449, 261843, 26029, 174522, 400581, 32832, 92001, 461429, 40675, 401499, 501618, 207717, 578169, 189893, 24287, 436600, 223718, 211138, 246728, 525790, 208913, 415026, 275037, 398949, 331225, 101127, 563961, 521972, 21991, 84291, 92353, 442666, 171374, 124840, 378621, 101952, 30307, 462134, 170122, 444171, 32134, 286575, 256785, 320533, 408965, 60145, 268418, 43815, 192501, 257983, 211529, 27002, 424218, 531765, 95176, 286044, 191005, 486921, 463620, 304627, 466265, 176551, 282631, 129334, 325758, 402199, 300881, 324496, 326724, 524195, 503643, 176085, 452341, 180410, 332498, 323178, 193373, 147331, 104328, 416972, 517878, 445754, 534259, 173987, 319517, 286973, 430684, 387000, 383508, 246759, 576749, 264244, 478505, 165492, 533551, 131524, 107204, 470613, 419212, 551063, 389207, 259687, 104919, 404282, 67082, 56392, 393907, 136132, 82464, 406739, 157119, 74828, 544926, 321902, 477438, 271447, 575252, 266103, 11624, 81961, 339059, 482858, 208629, 114274, 369367, 563511, 116526, 485605, 731, 84744, 485902, 532753, 397192, 186484, 557811, 507789, 406445, 235479, 405437, 417141, 470907, 550870, 520422, 355438, 352724, 292543, 241026, 123692, 378461, 91784, 364806, 385085, 61215, 346583, 40399, 190177, 233873, 381961, 394008, 342639, 124711, 474024, 122964, 559024, 488406, 79338, 414733, 401720, 306249, 416008, 368875, 333654, 43176, 131967, 352861, 334208, 573453, 414853, 484300, 282694, 280764, 458178, 249905, 489123, 309192, 340602, 218772, 447902, 45840, 244334, 69625, 341852, 406121, 86811, 8657, 479651, 295655, 370369, 507642, 76014, 212380, 149221, 80275, 576030, 403739, 36589, 531814, 508861, 6178, 137396, 506039, 209919, 130181, 262145, 310714, 139551, 579906, 284089, 571485, 350889, 147659, 135965, 341033, 55294, 193318, 326493, 345149, 39196, 357926, 12501, 77686, 205875, 109971, 188660, 338693, 280484, 403535, 11856, 372943, 10046, 145638, 521739, 251702, 416279, 21718, 193385, 24193, 151830, 57631, 297871, 14546, 333586, 9557, 502058, 134111, 315994, 401822, 399337, 150939, 336058, 138153, 539879, 361469, 62203, 359931, 35216, 508612, 486962, 467727, 320834, 122923, 207549, 11667, 338670, 8998, 114035, 364368, 516634, 237663, 53670, 117536, 524819, 404554, 238201, 200814, 365218, 49191, 370802, 570543, 273147, 523236, 244132, 292845]\n",
    "\n",
    "print(len(bold_img_ids))"
   ]
  },
  {
   "cell_type": "code",
   "execution_count": 278,
   "metadata": {
    "colab": {
     "base_uri": "https://localhost:8080/"
    },
    "id": "kvTU6BMwX5Ra",
    "outputId": "9f8505b9-8b33-46a2-db72-eddbf01afaa8"
   },
   "outputs": [
    {
     "name": "stdout",
     "output_type": "stream",
     "text": [
      "0 0\n",
      "10000 219\n",
      "20000 473\n",
      "30000 669\n",
      "40000 895\n",
      "50000 1137\n",
      "60000 1329\n",
      "70000 1574\n",
      "80000 1833\n",
      "90000 2230\n",
      "100000 2510\n",
      "110000 2811\n",
      "120000 3049\n",
      "130000 3279\n",
      "140000 3435\n",
      "150000 3644\n",
      "160000 3929\n",
      "170000 4198\n",
      "180000 4440\n",
      "190000 4686\n",
      "200000 4946\n",
      "210000 5235\n",
      "220000 5532\n",
      "230000 5866\n",
      "240000 6136\n",
      "250000 6425\n",
      "260000 6659\n",
      "270000 6902\n",
      "280000 7144\n",
      "290000 7355\n",
      "300000 7539\n",
      "310000 7717\n",
      "320000 7936\n",
      "330000 8182\n",
      "340000 8408\n",
      "350000 8676\n",
      "360000 8891\n",
      "370000 9064\n",
      "380000 9245\n",
      "390000 9474\n",
      "400000 9687\n",
      "410000 9900\n"
     ]
    }
   ],
   "source": [
    "df_caps = pd.DataFrame(columns=[\"image_id\",\"id\",\"caption\"])\n",
    "count = 0\n",
    "\n",
    "for i, key in enumerate(coco_caps_anns):\n",
    "\n",
    "  if(i%10000 == 0):\n",
    "    print(i, count)\n",
    "\n",
    "  if(coco_caps_anns[key]['image_id'] not in bold_img_ids):\n",
    "    continue\n",
    "\n",
    "  count+=1\n",
    "\n",
    "  thisrow = dict()\n",
    "  thisrow[\"id\"] = coco_caps_anns[key][\"id\"]\n",
    "  thisrow[\"image_id\"] = coco_caps_anns[key][\"image_id\"]\n",
    "  thisrow[\"caption\"] = coco_caps_anns[key][\"caption\"]\n",
    "\n",
    "  df_caps = df_caps.append(thisrow, ignore_index=True)"
   ]
  },
  {
   "cell_type": "code",
   "execution_count": 279,
   "metadata": {
    "colab": {
     "base_uri": "https://localhost:8080/"
    },
    "id": "GLV36H1vgDD0",
    "outputId": "a8a91fa0-6616-4a4a-d544-22ffd839c385"
   },
   "outputs": [
    {
     "name": "stdout",
     "output_type": "stream",
     "text": [
      "10003\n"
     ]
    }
   ],
   "source": [
    "print(count)"
   ]
  },
  {
   "cell_type": "code",
   "execution_count": 280,
   "metadata": {
    "colab": {
     "base_uri": "https://localhost:8080/",
     "height": 206
    },
    "id": "mgiHdJZSX5T-",
    "outputId": "452c86dc-238b-4f6f-9c2d-c8205a385486"
   },
   "outputs": [
    {
     "data": {
      "text/html": [
       "\n",
       "  <div id=\"df-13e03513-6b4a-4e03-9297-c819c776a818\">\n",
       "    <div class=\"colab-df-container\">\n",
       "      <div>\n",
       "<style scoped>\n",
       "    .dataframe tbody tr th:only-of-type {\n",
       "        vertical-align: middle;\n",
       "    }\n",
       "\n",
       "    .dataframe tbody tr th {\n",
       "        vertical-align: top;\n",
       "    }\n",
       "\n",
       "    .dataframe thead th {\n",
       "        text-align: right;\n",
       "    }\n",
       "</style>\n",
       "<table border=\"1\" class=\"dataframe\">\n",
       "  <thead>\n",
       "    <tr style=\"text-align: right;\">\n",
       "      <th></th>\n",
       "      <th>image_id</th>\n",
       "      <th>id</th>\n",
       "      <th>caption</th>\n",
       "    </tr>\n",
       "  </thead>\n",
       "  <tbody>\n",
       "    <tr>\n",
       "      <th>0</th>\n",
       "      <td>32275</td>\n",
       "      <td>352</td>\n",
       "      <td>The vanity contains two sinks with a towel for...</td>\n",
       "    </tr>\n",
       "    <tr>\n",
       "      <th>1</th>\n",
       "      <td>32275</td>\n",
       "      <td>2755</td>\n",
       "      <td>A clean restroom with towels and washcloths la...</td>\n",
       "    </tr>\n",
       "    <tr>\n",
       "      <th>2</th>\n",
       "      <td>32275</td>\n",
       "      <td>4186</td>\n",
       "      <td>The bathroom counter is stocked with towels an...</td>\n",
       "    </tr>\n",
       "    <tr>\n",
       "      <th>3</th>\n",
       "      <td>32275</td>\n",
       "      <td>5188</td>\n",
       "      <td>There is a clean bathroom counter and sink.</td>\n",
       "    </tr>\n",
       "    <tr>\n",
       "      <th>4</th>\n",
       "      <td>32275</td>\n",
       "      <td>6739</td>\n",
       "      <td>A hotel bathroom with stone counter and mirror</td>\n",
       "    </tr>\n",
       "  </tbody>\n",
       "</table>\n",
       "</div>\n",
       "      <button class=\"colab-df-convert\" onclick=\"convertToInteractive('df-13e03513-6b4a-4e03-9297-c819c776a818')\"\n",
       "              title=\"Convert this dataframe to an interactive table.\"\n",
       "              style=\"display:none;\">\n",
       "        \n",
       "  <svg xmlns=\"http://www.w3.org/2000/svg\" height=\"24px\"viewBox=\"0 0 24 24\"\n",
       "       width=\"24px\">\n",
       "    <path d=\"M0 0h24v24H0V0z\" fill=\"none\"/>\n",
       "    <path d=\"M18.56 5.44l.94 2.06.94-2.06 2.06-.94-2.06-.94-.94-2.06-.94 2.06-2.06.94zm-11 1L8.5 8.5l.94-2.06 2.06-.94-2.06-.94L8.5 2.5l-.94 2.06-2.06.94zm10 10l.94 2.06.94-2.06 2.06-.94-2.06-.94-.94-2.06-.94 2.06-2.06.94z\"/><path d=\"M17.41 7.96l-1.37-1.37c-.4-.4-.92-.59-1.43-.59-.52 0-1.04.2-1.43.59L10.3 9.45l-7.72 7.72c-.78.78-.78 2.05 0 2.83L4 21.41c.39.39.9.59 1.41.59.51 0 1.02-.2 1.41-.59l7.78-7.78 2.81-2.81c.8-.78.8-2.07 0-2.86zM5.41 20L4 18.59l7.72-7.72 1.47 1.35L5.41 20z\"/>\n",
       "  </svg>\n",
       "      </button>\n",
       "      \n",
       "  <style>\n",
       "    .colab-df-container {\n",
       "      display:flex;\n",
       "      flex-wrap:wrap;\n",
       "      gap: 12px;\n",
       "    }\n",
       "\n",
       "    .colab-df-convert {\n",
       "      background-color: #E8F0FE;\n",
       "      border: none;\n",
       "      border-radius: 50%;\n",
       "      cursor: pointer;\n",
       "      display: none;\n",
       "      fill: #1967D2;\n",
       "      height: 32px;\n",
       "      padding: 0 0 0 0;\n",
       "      width: 32px;\n",
       "    }\n",
       "\n",
       "    .colab-df-convert:hover {\n",
       "      background-color: #E2EBFA;\n",
       "      box-shadow: 0px 1px 2px rgba(60, 64, 67, 0.3), 0px 1px 3px 1px rgba(60, 64, 67, 0.15);\n",
       "      fill: #174EA6;\n",
       "    }\n",
       "\n",
       "    [theme=dark] .colab-df-convert {\n",
       "      background-color: #3B4455;\n",
       "      fill: #D2E3FC;\n",
       "    }\n",
       "\n",
       "    [theme=dark] .colab-df-convert:hover {\n",
       "      background-color: #434B5C;\n",
       "      box-shadow: 0px 1px 3px 1px rgba(0, 0, 0, 0.15);\n",
       "      filter: drop-shadow(0px 1px 2px rgba(0, 0, 0, 0.3));\n",
       "      fill: #FFFFFF;\n",
       "    }\n",
       "  </style>\n",
       "\n",
       "      <script>\n",
       "        const buttonEl =\n",
       "          document.querySelector('#df-13e03513-6b4a-4e03-9297-c819c776a818 button.colab-df-convert');\n",
       "        buttonEl.style.display =\n",
       "          google.colab.kernel.accessAllowed ? 'block' : 'none';\n",
       "\n",
       "        async function convertToInteractive(key) {\n",
       "          const element = document.querySelector('#df-13e03513-6b4a-4e03-9297-c819c776a818');\n",
       "          const dataTable =\n",
       "            await google.colab.kernel.invokeFunction('convertToInteractive',\n",
       "                                                     [key], {});\n",
       "          if (!dataTable) return;\n",
       "\n",
       "          const docLinkHtml = 'Like what you see? Visit the ' +\n",
       "            '<a target=\"_blank\" href=https://colab.research.google.com/notebooks/data_table.ipynb>data table notebook</a>'\n",
       "            + ' to learn more about interactive tables.';\n",
       "          element.innerHTML = '';\n",
       "          dataTable['output_type'] = 'display_data';\n",
       "          await google.colab.output.renderOutput(dataTable, element);\n",
       "          const docLink = document.createElement('div');\n",
       "          docLink.innerHTML = docLinkHtml;\n",
       "          element.appendChild(docLink);\n",
       "        }\n",
       "      </script>\n",
       "    </div>\n",
       "  </div>\n",
       "  "
      ],
      "text/plain": [
       "  image_id    id                                            caption\n",
       "0    32275   352  The vanity contains two sinks with a towel for...\n",
       "1    32275  2755  A clean restroom with towels and washcloths la...\n",
       "2    32275  4186  The bathroom counter is stocked with towels an...\n",
       "3    32275  5188        There is a clean bathroom counter and sink.\n",
       "4    32275  6739     A hotel bathroom with stone counter and mirror"
      ]
     },
     "execution_count": 280,
     "metadata": {},
     "output_type": "execute_result"
    }
   ],
   "source": [
    "df_caps.head()"
   ]
  },
  {
   "cell_type": "code",
   "execution_count": 281,
   "metadata": {
    "colab": {
     "base_uri": "https://localhost:8080/"
    },
    "id": "2MDNC94QX5WL",
    "outputId": "f7a082d7-54b8-4c29-b56f-815d10d03387"
   },
   "outputs": [
    {
     "name": "stdout",
     "output_type": "stream",
     "text": [
      "The number of unique file names : 2000\n"
     ]
    }
   ],
   "source": [
    "uni_filenames = np.unique(df_caps.image_id.values)\n",
    "print(\"The number of unique file names : {}\".format(len(uni_filenames)))"
   ]
  },
  {
   "cell_type": "markdown",
   "metadata": {
    "id": "INVG1YcmfjJJ"
   },
   "source": [
    "## **Cleaning the captions**\n",
    "\n",
    "\n",
    "\n",
    "---\n",
    "\n"
   ]
  },
  {
   "cell_type": "code",
   "execution_count": 282,
   "metadata": {
    "colab": {
     "base_uri": "https://localhost:8080/",
     "height": 161
    },
    "id": "AuYtul3cfioh",
    "outputId": "508160bd-8fe5-4652-d9fd-b034d11c9e81"
   },
   "outputs": [
    {
     "name": "stdout",
     "output_type": "stream",
     "text": [
      "Vocabulary Size: 6523\n"
     ]
    },
    {
     "data": {
      "text/html": [
       "\n",
       "  <div id=\"df-02555ccf-6da2-42e6-a079-6c7c264b575d\">\n",
       "    <div class=\"colab-df-container\">\n",
       "      <div>\n",
       "<style scoped>\n",
       "    .dataframe tbody tr th:only-of-type {\n",
       "        vertical-align: middle;\n",
       "    }\n",
       "\n",
       "    .dataframe tbody tr th {\n",
       "        vertical-align: top;\n",
       "    }\n",
       "\n",
       "    .dataframe thead th {\n",
       "        text-align: right;\n",
       "    }\n",
       "</style>\n",
       "<table border=\"1\" class=\"dataframe\">\n",
       "  <thead>\n",
       "    <tr style=\"text-align: right;\">\n",
       "      <th></th>\n",
       "      <th>word</th>\n",
       "      <th>count</th>\n",
       "    </tr>\n",
       "  </thead>\n",
       "  <tbody>\n",
       "    <tr>\n",
       "      <th>0</th>\n",
       "      <td>a</td>\n",
       "      <td>10347</td>\n",
       "    </tr>\n",
       "    <tr>\n",
       "      <th>1</th>\n",
       "      <td>A</td>\n",
       "      <td>5642</td>\n",
       "    </tr>\n",
       "    <tr>\n",
       "      <th>2</th>\n",
       "      <td>on</td>\n",
       "      <td>3577</td>\n",
       "    </tr>\n",
       "  </tbody>\n",
       "</table>\n",
       "</div>\n",
       "      <button class=\"colab-df-convert\" onclick=\"convertToInteractive('df-02555ccf-6da2-42e6-a079-6c7c264b575d')\"\n",
       "              title=\"Convert this dataframe to an interactive table.\"\n",
       "              style=\"display:none;\">\n",
       "        \n",
       "  <svg xmlns=\"http://www.w3.org/2000/svg\" height=\"24px\"viewBox=\"0 0 24 24\"\n",
       "       width=\"24px\">\n",
       "    <path d=\"M0 0h24v24H0V0z\" fill=\"none\"/>\n",
       "    <path d=\"M18.56 5.44l.94 2.06.94-2.06 2.06-.94-2.06-.94-.94-2.06-.94 2.06-2.06.94zm-11 1L8.5 8.5l.94-2.06 2.06-.94-2.06-.94L8.5 2.5l-.94 2.06-2.06.94zm10 10l.94 2.06.94-2.06 2.06-.94-2.06-.94-.94-2.06-.94 2.06-2.06.94z\"/><path d=\"M17.41 7.96l-1.37-1.37c-.4-.4-.92-.59-1.43-.59-.52 0-1.04.2-1.43.59L10.3 9.45l-7.72 7.72c-.78.78-.78 2.05 0 2.83L4 21.41c.39.39.9.59 1.41.59.51 0 1.02-.2 1.41-.59l7.78-7.78 2.81-2.81c.8-.78.8-2.07 0-2.86zM5.41 20L4 18.59l7.72-7.72 1.47 1.35L5.41 20z\"/>\n",
       "  </svg>\n",
       "      </button>\n",
       "      \n",
       "  <style>\n",
       "    .colab-df-container {\n",
       "      display:flex;\n",
       "      flex-wrap:wrap;\n",
       "      gap: 12px;\n",
       "    }\n",
       "\n",
       "    .colab-df-convert {\n",
       "      background-color: #E8F0FE;\n",
       "      border: none;\n",
       "      border-radius: 50%;\n",
       "      cursor: pointer;\n",
       "      display: none;\n",
       "      fill: #1967D2;\n",
       "      height: 32px;\n",
       "      padding: 0 0 0 0;\n",
       "      width: 32px;\n",
       "    }\n",
       "\n",
       "    .colab-df-convert:hover {\n",
       "      background-color: #E2EBFA;\n",
       "      box-shadow: 0px 1px 2px rgba(60, 64, 67, 0.3), 0px 1px 3px 1px rgba(60, 64, 67, 0.15);\n",
       "      fill: #174EA6;\n",
       "    }\n",
       "\n",
       "    [theme=dark] .colab-df-convert {\n",
       "      background-color: #3B4455;\n",
       "      fill: #D2E3FC;\n",
       "    }\n",
       "\n",
       "    [theme=dark] .colab-df-convert:hover {\n",
       "      background-color: #434B5C;\n",
       "      box-shadow: 0px 1px 3px 1px rgba(0, 0, 0, 0.15);\n",
       "      filter: drop-shadow(0px 1px 2px rgba(0, 0, 0, 0.3));\n",
       "      fill: #FFFFFF;\n",
       "    }\n",
       "  </style>\n",
       "\n",
       "      <script>\n",
       "        const buttonEl =\n",
       "          document.querySelector('#df-02555ccf-6da2-42e6-a079-6c7c264b575d button.colab-df-convert');\n",
       "        buttonEl.style.display =\n",
       "          google.colab.kernel.accessAllowed ? 'block' : 'none';\n",
       "\n",
       "        async function convertToInteractive(key) {\n",
       "          const element = document.querySelector('#df-02555ccf-6da2-42e6-a079-6c7c264b575d');\n",
       "          const dataTable =\n",
       "            await google.colab.kernel.invokeFunction('convertToInteractive',\n",
       "                                                     [key], {});\n",
       "          if (!dataTable) return;\n",
       "\n",
       "          const docLinkHtml = 'Like what you see? Visit the ' +\n",
       "            '<a target=\"_blank\" href=https://colab.research.google.com/notebooks/data_table.ipynb>data table notebook</a>'\n",
       "            + ' to learn more about interactive tables.';\n",
       "          element.innerHTML = '';\n",
       "          dataTable['output_type'] = 'display_data';\n",
       "          await google.colab.output.renderOutput(dataTable, element);\n",
       "          const docLink = document.createElement('div');\n",
       "          docLink.innerHTML = docLinkHtml;\n",
       "          element.appendChild(docLink);\n",
       "        }\n",
       "      </script>\n",
       "    </div>\n",
       "  </div>\n",
       "  "
      ],
      "text/plain": [
       "  word  count\n",
       "0    a  10347\n",
       "1    A   5642\n",
       "2   on   3577"
      ]
     },
     "execution_count": 282,
     "metadata": {},
     "output_type": "execute_result"
    }
   ],
   "source": [
    "def df_word(df_txt):\n",
    "    vocabulary = []\n",
    "    for txt in df_txt.caption.values:\n",
    "        vocabulary.extend(txt.split())\n",
    "    print('Vocabulary Size: %d' % len(set(vocabulary)))\n",
    "    ct = Counter(vocabulary)\n",
    "    dfword = pd.DataFrame({\"word\":ct.keys(),\"count\":ct.values()})\n",
    "    dfword = dfword.sort_values(by=\"count\",ascending=False)\n",
    "    dfword = dfword.reset_index()[[\"word\",\"count\"]]\n",
    "    return(dfword)\n",
    "dfword = df_word(df_caps)\n",
    "dfword.head(3)"
   ]
  },
  {
   "cell_type": "code",
   "execution_count": 283,
   "metadata": {
    "colab": {
     "base_uri": "https://localhost:8080/",
     "height": 637
    },
    "id": "hw6WC_RFf2SO",
    "outputId": "229486b2-7eb4-4d6a-c60c-837c3de6995e"
   },
   "outputs": [
    {
     "data": {
      "image/png": "[encoded data removed]",
      "text/plain": [
       "<Figure size 1440x216 with 1 Axes>"
      ]
     },
     "metadata": {
      "needs_background": "light"
     },
     "output_type": "display_data"
    },
    {
     "data": {
      "image/png": "[encoded data removed]",
      "text/plain": [
       "<Figure size 1440x216 with 1 Axes>"
      ]
     },
     "metadata": {
      "needs_background": "light"
     },
     "output_type": "display_data"
    }
   ],
   "source": [
    "topn = 50\n",
    "\n",
    "def plthist(dfsub, title=\"The top 50 most frequently appearing words\"):\n",
    "    plt.figure(figsize=(20,3))\n",
    "    plt.bar(dfsub.index,dfsub[\"count\"])\n",
    "    plt.yticks(fontsize=20)\n",
    "    plt.xticks(dfsub.index,dfsub[\"word\"],rotation=90,fontsize=20)\n",
    "    plt.title(title,fontsize=20)\n",
    "    plt.show()\n",
    "\n",
    "plthist(dfword.iloc[:topn,:],\n",
    "        title=\"The top 50 most frequently appearing words\")\n",
    "plthist(dfword.iloc[-topn:,:],\n",
    "        title=\"The least 50 most frequently appearing words\")"
   ]
  },
  {
   "cell_type": "code",
   "execution_count": 284,
   "metadata": {
    "colab": {
     "base_uri": "https://localhost:8080/"
    },
    "id": "KooQj6UBgf5_",
    "outputId": "9d2a5ce0-ac18-4cba-fd8d-8382ea46f458"
   },
   "outputs": [
    {
     "name": "stdout",
     "output_type": "stream",
     "text": [
      "[nltk_data] Downloading package stopwords to /root/nltk_data...\n",
      "[nltk_data]   Package stopwords is already up-to-date!\n",
      "I ate 1000 apples and a banana. I have python v2.7. It's 2:30 pm. Could you buy me iphone7?\n",
      "\n",
      "Remove punctuations..\n",
      "I ate 1000 apples and a banana I have python v27 Its 230 pm Could you buy me iphone7\n",
      "\n",
      "Remove a single character word..\n",
      " ate 1000 apples banana python v27 Its 230 pm Could buy iphone7\n",
      "\n",
      "Remove words with numeric values..\n",
      "    ate        : True\n",
      "    1000       : False\n",
      "    apples     : True\n",
      "    banana     : True\n",
      "    python     : True\n",
      "    v27        : False\n",
      "    Its        : True\n",
      "    230        : False\n",
      "    pm         : True\n",
      "    Could      : True\n",
      "    buy        : True\n",
      "    iphone7    : False\n",
      " ate apples banana python Its pm Could buy\n"
     ]
    }
   ],
   "source": [
    "import string\n",
    "text_original = \"I ate 1000 apples and a banana. I have python v2.7. It's 2:30 pm. Could you buy me iphone7?\"\n",
    "import nltk\n",
    "nltk.download('stopwords')\n",
    "from nltk.corpus import stopwords\n",
    "# print(stopwords.words('english'))\n",
    "\n",
    "print(text_original)\n",
    "print(\"\\nRemove punctuations..\")\n",
    "def remove_punctuation(text_original):\n",
    "    text_no_punctuation = text_original.translate(str.maketrans('','',string.punctuation))\n",
    "    return(text_no_punctuation)\n",
    "text_no_punctuation = remove_punctuation(text_original)\n",
    "print(text_no_punctuation)\n",
    "\n",
    "\n",
    "print(\"\\nRemove a single character word..\")\n",
    "def remove_single_character(text):\n",
    "    text_len_more_than1 = \"\"\n",
    "    frequent_word_list = ['on', 'of', 'in', 'the', 'with', 'and', 'is', 'to']\n",
    "    for word in text.split():\n",
    "        if len(word) > 1 and word not in frequent_word_list and word not in stopwords.words('english'):\n",
    "            text_len_more_than1 += \" \" + word\n",
    "    return(text_len_more_than1)\n",
    "text_len_more_than1 = remove_single_character(text_no_punctuation)\n",
    "print(text_len_more_than1)\n",
    "\n",
    "print(\"\\nRemove words with numeric values..\")\n",
    "def remove_numeric(text,printTF=False):\n",
    "    text_no_numeric = \"\"\n",
    "    for word in text.split():\n",
    "        isalpha = word.isalpha()\n",
    "        if printTF:\n",
    "            print(\"    {:10} : {:}\".format(word,isalpha))\n",
    "        if isalpha:\n",
    "            text_no_numeric += \" \" + word\n",
    "    return(text_no_numeric)\n",
    "text_no_numeric = remove_numeric(text_len_more_than1,printTF=True)\n",
    "print(text_no_numeric)"
   ]
  },
  {
   "cell_type": "code",
   "execution_count": 285,
   "metadata": {
    "id": "BBQ36pZLg0FN"
   },
   "outputs": [],
   "source": [
    "def text_clean(text_original):\n",
    "    text = remove_punctuation(text_original)\n",
    "    # text = remove_single_character(text)\n",
    "    text = remove_numeric(text)\n",
    "    return(text)\n",
    "\n",
    "for i, caption in enumerate(df_caps.caption.values):\n",
    "    newcaption = text_clean(caption)\n",
    "    df_caps[\"caption\"].iloc[i] = newcaption"
   ]
  },
  {
   "cell_type": "code",
   "execution_count": 286,
   "metadata": {
    "colab": {
     "base_uri": "https://localhost:8080/",
     "height": 206
    },
    "id": "-WwBkDRyhfUh",
    "outputId": "633c2b7a-d069-47f0-e5e5-d5c7dad74084"
   },
   "outputs": [
    {
     "data": {
      "text/html": [
       "\n",
       "  <div id=\"df-3591c52f-d187-42ed-b457-d834f26a2877\">\n",
       "    <div class=\"colab-df-container\">\n",
       "      <div>\n",
       "<style scoped>\n",
       "    .dataframe tbody tr th:only-of-type {\n",
       "        vertical-align: middle;\n",
       "    }\n",
       "\n",
       "    .dataframe tbody tr th {\n",
       "        vertical-align: top;\n",
       "    }\n",
       "\n",
       "    .dataframe thead th {\n",
       "        text-align: right;\n",
       "    }\n",
       "</style>\n",
       "<table border=\"1\" class=\"dataframe\">\n",
       "  <thead>\n",
       "    <tr style=\"text-align: right;\">\n",
       "      <th></th>\n",
       "      <th>image_id</th>\n",
       "      <th>id</th>\n",
       "      <th>caption</th>\n",
       "    </tr>\n",
       "  </thead>\n",
       "  <tbody>\n",
       "    <tr>\n",
       "      <th>0</th>\n",
       "      <td>32275</td>\n",
       "      <td>352</td>\n",
       "      <td>The vanity contains two sinks with a towel fo...</td>\n",
       "    </tr>\n",
       "    <tr>\n",
       "      <th>1</th>\n",
       "      <td>32275</td>\n",
       "      <td>2755</td>\n",
       "      <td>A clean restroom with towels and washcloths l...</td>\n",
       "    </tr>\n",
       "    <tr>\n",
       "      <th>2</th>\n",
       "      <td>32275</td>\n",
       "      <td>4186</td>\n",
       "      <td>The bathroom counter is stocked with towels a...</td>\n",
       "    </tr>\n",
       "    <tr>\n",
       "      <th>3</th>\n",
       "      <td>32275</td>\n",
       "      <td>5188</td>\n",
       "      <td>There is a clean bathroom counter and sink</td>\n",
       "    </tr>\n",
       "    <tr>\n",
       "      <th>4</th>\n",
       "      <td>32275</td>\n",
       "      <td>6739</td>\n",
       "      <td>A hotel bathroom with stone counter and mirror</td>\n",
       "    </tr>\n",
       "  </tbody>\n",
       "</table>\n",
       "</div>\n",
       "      <button class=\"colab-df-convert\" onclick=\"convertToInteractive('df-3591c52f-d187-42ed-b457-d834f26a2877')\"\n",
       "              title=\"Convert this dataframe to an interactive table.\"\n",
       "              style=\"display:none;\">\n",
       "        \n",
       "  <svg xmlns=\"http://www.w3.org/2000/svg\" height=\"24px\"viewBox=\"0 0 24 24\"\n",
       "       width=\"24px\">\n",
       "    <path d=\"M0 0h24v24H0V0z\" fill=\"none\"/>\n",
       "    <path d=\"M18.56 5.44l.94 2.06.94-2.06 2.06-.94-2.06-.94-.94-2.06-.94 2.06-2.06.94zm-11 1L8.5 8.5l.94-2.06 2.06-.94-2.06-.94L8.5 2.5l-.94 2.06-2.06.94zm10 10l.94 2.06.94-2.06 2.06-.94-2.06-.94-.94-2.06-.94 2.06-2.06.94z\"/><path d=\"M17.41 7.96l-1.37-1.37c-.4-.4-.92-.59-1.43-.59-.52 0-1.04.2-1.43.59L10.3 9.45l-7.72 7.72c-.78.78-.78 2.05 0 2.83L4 21.41c.39.39.9.59 1.41.59.51 0 1.02-.2 1.41-.59l7.78-7.78 2.81-2.81c.8-.78.8-2.07 0-2.86zM5.41 20L4 18.59l7.72-7.72 1.47 1.35L5.41 20z\"/>\n",
       "  </svg>\n",
       "      </button>\n",
       "      \n",
       "  <style>\n",
       "    .colab-df-container {\n",
       "      display:flex;\n",
       "      flex-wrap:wrap;\n",
       "      gap: 12px;\n",
       "    }\n",
       "\n",
       "    .colab-df-convert {\n",
       "      background-color: #E8F0FE;\n",
       "      border: none;\n",
       "      border-radius: 50%;\n",
       "      cursor: pointer;\n",
       "      display: none;\n",
       "      fill: #1967D2;\n",
       "      height: 32px;\n",
       "      padding: 0 0 0 0;\n",
       "      width: 32px;\n",
       "    }\n",
       "\n",
       "    .colab-df-convert:hover {\n",
       "      background-color: #E2EBFA;\n",
       "      box-shadow: 0px 1px 2px rgba(60, 64, 67, 0.3), 0px 1px 3px 1px rgba(60, 64, 67, 0.15);\n",
       "      fill: #174EA6;\n",
       "    }\n",
       "\n",
       "    [theme=dark] .colab-df-convert {\n",
       "      background-color: #3B4455;\n",
       "      fill: #D2E3FC;\n",
       "    }\n",
       "\n",
       "    [theme=dark] .colab-df-convert:hover {\n",
       "      background-color: #434B5C;\n",
       "      box-shadow: 0px 1px 3px 1px rgba(0, 0, 0, 0.15);\n",
       "      filter: drop-shadow(0px 1px 2px rgba(0, 0, 0, 0.3));\n",
       "      fill: #FFFFFF;\n",
       "    }\n",
       "  </style>\n",
       "\n",
       "      <script>\n",
       "        const buttonEl =\n",
       "          document.querySelector('#df-3591c52f-d187-42ed-b457-d834f26a2877 button.colab-df-convert');\n",
       "        buttonEl.style.display =\n",
       "          google.colab.kernel.accessAllowed ? 'block' : 'none';\n",
       "\n",
       "        async function convertToInteractive(key) {\n",
       "          const element = document.querySelector('#df-3591c52f-d187-42ed-b457-d834f26a2877');\n",
       "          const dataTable =\n",
       "            await google.colab.kernel.invokeFunction('convertToInteractive',\n",
       "                                                     [key], {});\n",
       "          if (!dataTable) return;\n",
       "\n",
       "          const docLinkHtml = 'Like what you see? Visit the ' +\n",
       "            '<a target=\"_blank\" href=https://colab.research.google.com/notebooks/data_table.ipynb>data table notebook</a>'\n",
       "            + ' to learn more about interactive tables.';\n",
       "          element.innerHTML = '';\n",
       "          dataTable['output_type'] = 'display_data';\n",
       "          await google.colab.output.renderOutput(dataTable, element);\n",
       "          const docLink = document.createElement('div');\n",
       "          docLink.innerHTML = docLinkHtml;\n",
       "          element.appendChild(docLink);\n",
       "        }\n",
       "      </script>\n",
       "    </div>\n",
       "  </div>\n",
       "  "
      ],
      "text/plain": [
       "  image_id    id                                            caption\n",
       "0    32275   352   The vanity contains two sinks with a towel fo...\n",
       "1    32275  2755   A clean restroom with towels and washcloths l...\n",
       "2    32275  4186   The bathroom counter is stocked with towels a...\n",
       "3    32275  5188         There is a clean bathroom counter and sink\n",
       "4    32275  6739     A hotel bathroom with stone counter and mirror"
      ]
     },
     "execution_count": 286,
     "metadata": {},
     "output_type": "execute_result"
    }
   ],
   "source": [
    "df_caps.head()"
   ]
  },
  {
   "cell_type": "code",
   "execution_count": 287,
   "metadata": {
    "colab": {
     "base_uri": "https://localhost:8080/",
     "height": 667
    },
    "id": "TcgAeRKKhsuA",
    "outputId": "80bc2abf-02d9-4176-b3c4-cfbbb52bb182"
   },
   "outputs": [
    {
     "name": "stdout",
     "output_type": "stream",
     "text": [
      "Vocabulary Size: 5027\n"
     ]
    },
    {
     "data": {
      "image/png": "[encoded data removed]",
      "text/plain": [
       "<Figure size 1440x216 with 1 Axes>"
      ]
     },
     "metadata": {
      "needs_background": "light"
     },
     "output_type": "display_data"
    },
    {
     "data": {
      "image/png": "[encoded data removed]",
      "text/plain": [
       "<Figure size 1440x216 with 1 Axes>"
      ]
     },
     "metadata": {
      "needs_background": "light"
     },
     "output_type": "display_data"
    }
   ],
   "source": [
    "dfword = df_word(df_caps)\n",
    "plthist(dfword.iloc[:topn,:],\n",
    "        title=\"The top 50 most frequently appearing words\")\n",
    "plthist(dfword.iloc[-topn:,:],\n",
    "        title=\"The least 50 most frequently appearing words\")"
   ]
  },
  {
   "cell_type": "code",
   "execution_count": 288,
   "metadata": {
    "id": "8RWiKlZKhswJ"
   },
   "outputs": [],
   "source": [
    "from copy import copy\n",
    "def add_start_end_seq_token(captions):\n",
    "    caps = []\n",
    "    for txt in captions:\n",
    "        txt = 'startseq ' + txt + ' endseq'\n",
    "        caps.append(txt)\n",
    "    return(caps)\n",
    "df_txt0 = copy(df_caps)\n",
    "df_txt0[\"caption\"] = add_start_end_seq_token(df_caps[\"caption\"])\n",
    "df_txt0.head(5)\n",
    "del df_caps"
   ]
  },
  {
   "cell_type": "markdown",
   "metadata": {
    "id": "r1VlH2PciU8r"
   },
   "source": [
    "## **Image Preparation**\n",
    "\n",
    "\n",
    "\n",
    "---\n",
    "\n"
   ]
  },
  {
   "cell_type": "code",
   "execution_count": 289,
   "metadata": {
    "colab": {
     "base_uri": "https://localhost:8080/"
    },
    "id": "Mgd0KKFfp6rq",
    "outputId": "ee9ccdfd-27f6-471f-b178-125318cf9a0d"
   },
   "outputs": [
    {
     "data": {
      "text/plain": [
       "dict_keys(['block1', 'block2', 'block3', 'block4', 'fc'])"
      ]
     },
     "execution_count": 289,
     "metadata": {},
     "output_type": "execute_result"
    }
   ],
   "source": [
    "data_dict['COCO_train2014_000000054001'].keys()"
   ]
  },
  {
   "cell_type": "code",
   "execution_count": 290,
   "metadata": {
    "id": "_NivxmMGhsyW"
   },
   "outputs": [],
   "source": [
    "from collections import OrderedDict\n",
    "\n",
    "## Doing it for block4 now\n",
    "\n",
    "images = OrderedDict()\n",
    "\n",
    "for i,name in enumerate(data_dict):\n",
    "    # load an image from file\n",
    "    if('COCO' in name):\n",
    "      images[name] = data_dict[name]['block3']"
   ]
  },
  {
   "cell_type": "code",
   "execution_count": 291,
   "metadata": {
    "colab": {
     "base_uri": "https://localhost:8080/"
    },
    "id": "Rz_2TWUwhs0p",
    "outputId": "8bdd9a7d-8b15-466f-d0ac-e6397a852cc1"
   },
   "outputs": [
    {
     "name": "stdout",
     "output_type": "stream",
     "text": [
      "2000\n"
     ]
    }
   ],
   "source": [
    "print(len(images))"
   ]
  },
  {
   "cell_type": "markdown",
   "metadata": {
    "id": "Q7EXg0vFrz5b"
   },
   "source": [
    "## **Linking Images and Captions**\n",
    "\n",
    "\n",
    "\n",
    "---\n",
    "\n"
   ]
  },
  {
   "cell_type": "code",
   "execution_count": 292,
   "metadata": {
    "colab": {
     "base_uri": "https://localhost:8080/",
     "height": 206
    },
    "id": "DBeZxwk1shnd",
    "outputId": "3ed06163-8f42-40d3-f8b5-8c0f336c3047"
   },
   "outputs": [
    {
     "data": {
      "text/html": [
       "\n",
       "  <div id=\"df-dde147c5-e4e7-413b-beb0-37611d97931b\">\n",
       "    <div class=\"colab-df-container\">\n",
       "      <div>\n",
       "<style scoped>\n",
       "    .dataframe tbody tr th:only-of-type {\n",
       "        vertical-align: middle;\n",
       "    }\n",
       "\n",
       "    .dataframe tbody tr th {\n",
       "        vertical-align: top;\n",
       "    }\n",
       "\n",
       "    .dataframe thead th {\n",
       "        text-align: right;\n",
       "    }\n",
       "</style>\n",
       "<table border=\"1\" class=\"dataframe\">\n",
       "  <thead>\n",
       "    <tr style=\"text-align: right;\">\n",
       "      <th></th>\n",
       "      <th>image_id</th>\n",
       "      <th>id</th>\n",
       "      <th>caption</th>\n",
       "    </tr>\n",
       "  </thead>\n",
       "  <tbody>\n",
       "    <tr>\n",
       "      <th>0</th>\n",
       "      <td>32275</td>\n",
       "      <td>352</td>\n",
       "      <td>startseq  The vanity contains two sinks with a...</td>\n",
       "    </tr>\n",
       "    <tr>\n",
       "      <th>1</th>\n",
       "      <td>32275</td>\n",
       "      <td>2755</td>\n",
       "      <td>startseq  A clean restroom with towels and was...</td>\n",
       "    </tr>\n",
       "    <tr>\n",
       "      <th>2</th>\n",
       "      <td>32275</td>\n",
       "      <td>4186</td>\n",
       "      <td>startseq  The bathroom counter is stocked with...</td>\n",
       "    </tr>\n",
       "    <tr>\n",
       "      <th>3</th>\n",
       "      <td>32275</td>\n",
       "      <td>5188</td>\n",
       "      <td>startseq  There is a clean bathroom counter an...</td>\n",
       "    </tr>\n",
       "    <tr>\n",
       "      <th>4</th>\n",
       "      <td>32275</td>\n",
       "      <td>6739</td>\n",
       "      <td>startseq  A hotel bathroom with stone counter ...</td>\n",
       "    </tr>\n",
       "  </tbody>\n",
       "</table>\n",
       "</div>\n",
       "      <button class=\"colab-df-convert\" onclick=\"convertToInteractive('df-dde147c5-e4e7-413b-beb0-37611d97931b')\"\n",
       "              title=\"Convert this dataframe to an interactive table.\"\n",
       "              style=\"display:none;\">\n",
       "        \n",
       "  <svg xmlns=\"http://www.w3.org/2000/svg\" height=\"24px\"viewBox=\"0 0 24 24\"\n",
       "       width=\"24px\">\n",
       "    <path d=\"M0 0h24v24H0V0z\" fill=\"none\"/>\n",
       "    <path d=\"M18.56 5.44l.94 2.06.94-2.06 2.06-.94-2.06-.94-.94-2.06-.94 2.06-2.06.94zm-11 1L8.5 8.5l.94-2.06 2.06-.94-2.06-.94L8.5 2.5l-.94 2.06-2.06.94zm10 10l.94 2.06.94-2.06 2.06-.94-2.06-.94-.94-2.06-.94 2.06-2.06.94z\"/><path d=\"M17.41 7.96l-1.37-1.37c-.4-.4-.92-.59-1.43-.59-.52 0-1.04.2-1.43.59L10.3 9.45l-7.72 7.72c-.78.78-.78 2.05 0 2.83L4 21.41c.39.39.9.59 1.41.59.51 0 1.02-.2 1.41-.59l7.78-7.78 2.81-2.81c.8-.78.8-2.07 0-2.86zM5.41 20L4 18.59l7.72-7.72 1.47 1.35L5.41 20z\"/>\n",
       "  </svg>\n",
       "      </button>\n",
       "      \n",
       "  <style>\n",
       "    .colab-df-container {\n",
       "      display:flex;\n",
       "      flex-wrap:wrap;\n",
       "      gap: 12px;\n",
       "    }\n",
       "\n",
       "    .colab-df-convert {\n",
       "      background-color: #E8F0FE;\n",
       "      border: none;\n",
       "      border-radius: 50%;\n",
       "      cursor: pointer;\n",
       "      display: none;\n",
       "      fill: #1967D2;\n",
       "      height: 32px;\n",
       "      padding: 0 0 0 0;\n",
       "      width: 32px;\n",
       "    }\n",
       "\n",
       "    .colab-df-convert:hover {\n",
       "      background-color: #E2EBFA;\n",
       "      box-shadow: 0px 1px 2px rgba(60, 64, 67, 0.3), 0px 1px 3px 1px rgba(60, 64, 67, 0.15);\n",
       "      fill: #174EA6;\n",
       "    }\n",
       "\n",
       "    [theme=dark] .colab-df-convert {\n",
       "      background-color: #3B4455;\n",
       "      fill: #D2E3FC;\n",
       "    }\n",
       "\n",
       "    [theme=dark] .colab-df-convert:hover {\n",
       "      background-color: #434B5C;\n",
       "      box-shadow: 0px 1px 3px 1px rgba(0, 0, 0, 0.15);\n",
       "      filter: drop-shadow(0px 1px 2px rgba(0, 0, 0, 0.3));\n",
       "      fill: #FFFFFF;\n",
       "    }\n",
       "  </style>\n",
       "\n",
       "      <script>\n",
       "        const buttonEl =\n",
       "          document.querySelector('#df-dde147c5-e4e7-413b-beb0-37611d97931b button.colab-df-convert');\n",
       "        buttonEl.style.display =\n",
       "          google.colab.kernel.accessAllowed ? 'block' : 'none';\n",
       "\n",
       "        async function convertToInteractive(key) {\n",
       "          const element = document.querySelector('#df-dde147c5-e4e7-413b-beb0-37611d97931b');\n",
       "          const dataTable =\n",
       "            await google.colab.kernel.invokeFunction('convertToInteractive',\n",
       "                                                     [key], {});\n",
       "          if (!dataTable) return;\n",
       "\n",
       "          const docLinkHtml = 'Like what you see? Visit the ' +\n",
       "            '<a target=\"_blank\" href=https://colab.research.google.com/notebooks/data_table.ipynb>data table notebook</a>'\n",
       "            + ' to learn more about interactive tables.';\n",
       "          element.innerHTML = '';\n",
       "          dataTable['output_type'] = 'display_data';\n",
       "          await google.colab.output.renderOutput(dataTable, element);\n",
       "          const docLink = document.createElement('div');\n",
       "          docLink.innerHTML = docLinkHtml;\n",
       "          element.appendChild(docLink);\n",
       "        }\n",
       "      </script>\n",
       "    </div>\n",
       "  </div>\n",
       "  "
      ],
      "text/plain": [
       "  image_id    id                                            caption\n",
       "0    32275   352  startseq  The vanity contains two sinks with a...\n",
       "1    32275  2755  startseq  A clean restroom with towels and was...\n",
       "2    32275  4186  startseq  The bathroom counter is stocked with...\n",
       "3    32275  5188  startseq  There is a clean bathroom counter an...\n",
       "4    32275  6739  startseq  A hotel bathroom with stone counter ..."
      ]
     },
     "execution_count": 292,
     "metadata": {},
     "output_type": "execute_result"
    }
   ],
   "source": [
    "df_txt0.head()"
   ]
  },
  {
   "cell_type": "code",
   "execution_count": 311,
   "metadata": {
    "id": "UTGKmuazrzYP"
   },
   "outputs": [],
   "source": [
    "dimages, keepindex = [],[]\n",
    "# df_txt0 = df_txt0.loc[df_txt0[\"index\"].values == \"0\",: ]\n",
    "appeared_image_ids = []\n",
    "for i, fnm in enumerate(df_txt0.image_id):\n",
    "  # if(fnm in appeared_image_ids):\n",
    "  #   continue\n",
    "  # appeared_image_ids.append(fnm)\n",
    "  for key in images:\n",
    "    if(str(fnm) in key):\n",
    "      dimages.append(images[key])\n",
    "      keepindex.append(i)\n",
    "      break\n",
    "        \n",
    "fnames = df_txt0[\"image_id\"].iloc[keepindex].values\n",
    "dcaptions = df_txt0[\"caption\"].iloc[keepindex].values\n",
    "dimages = np.array(dimages)"
   ]
  },
  {
   "cell_type": "code",
   "execution_count": 312,
   "metadata": {
    "colab": {
     "base_uri": "https://localhost:8080/"
    },
    "id": "JSjT1jYZuTq5",
    "outputId": "37560840-8989-4cd1-bb13-a98e3e69880d"
   },
   "outputs": [
    {
     "name": "stdout",
     "output_type": "stream",
     "text": [
      "10003 1024\n"
     ]
    }
   ],
   "source": [
    "print(len(dimages), len(dimages[0]))"
   ]
  },
  {
   "cell_type": "code",
   "execution_count": 313,
   "metadata": {
    "colab": {
     "base_uri": "https://localhost:8080/"
    },
    "id": "fCVVaK0Zuf6P",
    "outputId": "09128c1d-ad7f-468b-d740-35bee429f458"
   },
   "outputs": [
    {
     "name": "stdout",
     "output_type": "stream",
     "text": [
      "10003 startseq  The vanity contains two sinks with a towel for each endseq\n"
     ]
    }
   ],
   "source": [
    "print(len(dcaptions), dcaptions[0])"
   ]
  },
  {
   "cell_type": "code",
   "execution_count": 297,
   "metadata": {
    "colab": {
     "base_uri": "https://localhost:8080/"
    },
    "id": "lm7SKTJ_rfrc",
    "outputId": "c30b7e17-67d8-4db1-92f6-1b9747e5568e"
   },
   "outputs": [
    {
     "name": "stdout",
     "output_type": "stream",
     "text": [
      "vocabulary size : 1913\n",
      "[[2, 6, 356, 992, 15, 480, 8, 1, 569, 90, 74, 3], [2, 6, 175, 4, 1, 59, 8, 15, 480, 3], [2, 1, 37, 5, 1, 380, 357, 11, 381, 1, 33, 24, 6, 322, 3], [2, 1, 26, 12, 5, 1, 150, 101, 24, 1, 570, 20, 78, 3], [2, 1, 184, 117, 8, 21, 9, 1, 184, 705, 7, 6, 112, 3]]\n"
     ]
    }
   ],
   "source": [
    "from keras.preprocessing.text import Tokenizer\n",
    "\n",
    "nb_words = 2000\n",
    "tokenizer = Tokenizer(nb_words=nb_words)\n",
    "tokenizer.fit_on_texts(dcaptions)\n",
    "vocab_size = len(tokenizer.word_index) + 1\n",
    "print(\"vocabulary size : {}\".format(vocab_size))\n",
    "dtexts = tokenizer.texts_to_sequences(dcaptions)\n",
    "print(dtexts[:5])"
   ]
  },
  {
   "cell_type": "markdown",
   "metadata": {
    "id": "Cp71eFiLvQNJ"
   },
   "source": [
    "## **Getting Ready for Training**\n",
    "\n",
    "---"
   ]
  },
  {
   "cell_type": "code",
   "execution_count": 298,
   "metadata": {
    "id": "X9y6-m4wvPqZ"
   },
   "outputs": [],
   "source": [
    "prop_test, prop_val = 0.15, 0.15 \n",
    "\n",
    "N = len(dtexts)\n",
    "Ntest, Nval = int(N*prop_test), int(N*prop_val)\n",
    "\n",
    "def split_test_val_train(dtexts,Ntest,Nval):\n",
    "    return(dtexts[:Ntest], \n",
    "           dtexts[Ntest:Ntest+Nval],  \n",
    "           dtexts[Ntest+Nval:])\n",
    "\n",
    "dt_test,  dt_val, dt_train   = split_test_val_train(dtexts,Ntest,Nval)\n",
    "di_test,  di_val, di_train   = split_test_val_train(dimages,Ntest,Nval)\n",
    "fnm_test,fnm_val, fnm_train  = split_test_val_train(fnames,Ntest,Nval)"
   ]
  },
  {
   "cell_type": "code",
   "execution_count": 299,
   "metadata": {
    "id": "NU-cWmm8vKiG"
   },
   "outputs": [],
   "source": [
    "maxlen = np.max([len(text) for text in dtexts])"
   ]
  },
  {
   "cell_type": "code",
   "execution_count": 300,
   "metadata": {
    "colab": {
     "base_uri": "https://localhost:8080/"
    },
    "id": "W_UFMk85vgtR",
    "outputId": "0c6b7fb9-b56e-40fe-c0b5-ffc5312493cd"
   },
   "outputs": [
    {
     "name": "stdout",
     "output_type": "stream",
     "text": [
      "# captions/images = 1400\n",
      " (15890, 32) (15890, 1024) (15890, 1913)\n",
      "# captions/images = 300\n",
      " (3406, 32) (3406, 1024) (3406, 1913)\n"
     ]
    }
   ],
   "source": [
    "from keras.preprocessing.sequence import pad_sequences\n",
    "from tensorflow.keras.utils import to_categorical\n",
    "\n",
    "def preprocessing(dtexts,dimages):\n",
    "    N = len(dtexts)\n",
    "    print(\"# captions/images = {}\".format(N))\n",
    "\n",
    "    assert(N==len(dimages))\n",
    "    Xtext, Ximage, ytext = [],[],[]\n",
    "    for text,image in zip(dtexts,dimages):\n",
    "\n",
    "        for i in range(1,len(text)):\n",
    "            in_text, out_text = text[:i], text[i]\n",
    "            in_text = pad_sequences([in_text],maxlen=maxlen).flatten()\n",
    "            out_text = to_categorical(out_text,num_classes = vocab_size)\n",
    "\n",
    "            Xtext.append(in_text)\n",
    "            Ximage.append(image)\n",
    "            ytext.append(out_text)\n",
    "\n",
    "    Xtext  = np.array(Xtext)\n",
    "    Ximage = np.array(Ximage)\n",
    "    ytext  = np.array(ytext)\n",
    "    print(\" {} {} {}\".format(Xtext.shape,Ximage.shape,ytext.shape))\n",
    "    return(Xtext,Ximage,ytext)\n",
    "\n",
    "\n",
    "Xtext_train, Ximage_train, ytext_train = preprocessing(dt_train,di_train)\n",
    "Xtext_val,   Ximage_val,   ytext_val   = preprocessing(dt_val,di_val)"
   ]
  },
  {
   "cell_type": "code",
   "execution_count": 301,
   "metadata": {
    "colab": {
     "base_uri": "https://localhost:8080/"
    },
    "id": "HkfPHCmzvvP2",
    "outputId": "925df0cd-8937-4745-93ed-cacd41e21d1c"
   },
   "outputs": [
    {
     "name": "stdout",
     "output_type": "stream",
     "text": [
      "1913\n",
      "Model: \"model_7\"\n",
      "__________________________________________________________________________________________________\n",
      " Layer (type)                   Output Shape         Param #     Connected to                     \n",
      "==================================================================================================\n",
      " input_16 (InputLayer)          [(None, 32)]         0           []                               \n",
      "                                                                                                  \n",
      " embedding_7 (Embedding)        (None, 32, 64)       122432      ['input_16[0][0]']               \n",
      "                                                                                                  \n",
      " input_15 (InputLayer)          [(None, 1024)]       0           []                               \n",
      "                                                                                                  \n",
      " CaptionFeature (LSTM)          (None, 256)          328704      ['embedding_7[0][0]']            \n",
      "                                                                                                  \n",
      " ImageFeature (Dense)           (None, 256)          262400      ['input_15[0][0]']               \n",
      "                                                                                                  \n",
      " add_7 (Add)                    (None, 256)          0           ['CaptionFeature[0][0]',         \n",
      "                                                                  'ImageFeature[0][0]']           \n",
      "                                                                                                  \n",
      " dense_14 (Dense)               (None, 256)          65792       ['add_7[0][0]']                  \n",
      "                                                                                                  \n",
      " dense_15 (Dense)               (None, 1913)         491641      ['dense_14[0][0]']               \n",
      "                                                                                                  \n",
      "==================================================================================================\n",
      "Total params: 1,270,969\n",
      "Trainable params: 1,270,969\n",
      "Non-trainable params: 0\n",
      "__________________________________________________________________________________________________\n",
      "None\n"
     ]
    }
   ],
   "source": [
    "from keras import layers\n",
    "from keras import models\n",
    "\n",
    "print(vocab_size)\n",
    "## image feature\n",
    "\n",
    "dim_embedding = 64\n",
    "\n",
    "input_image = layers.Input(shape=(Ximage_train.shape[1],))\n",
    "fimage = layers.Dense(256,activation='relu',name=\"ImageFeature\")(input_image)\n",
    "## sequence model\n",
    "input_txt = layers.Input(shape=(maxlen,))\n",
    "ftxt = layers.Embedding(vocab_size,dim_embedding, mask_zero=True)(input_txt)\n",
    "ftxt = layers.LSTM(256,name=\"CaptionFeature\")(ftxt)\n",
    "## combined model for decoder\n",
    "decoder = layers.add([ftxt,fimage])\n",
    "decoder = layers.Dense(256,activation='relu')(decoder)\n",
    "output = layers.Dense(vocab_size,activation='softmax')(decoder)\n",
    "model = models.Model(inputs=[input_image, input_txt],outputs=output)\n",
    "\n",
    "model.compile(loss='categorical_crossentropy', optimizer='adam')\n",
    "\n",
    "print(model.summary())"
   ]
  },
  {
   "cell_type": "code",
   "execution_count": 302,
   "metadata": {
    "colab": {
     "base_uri": "https://localhost:8080/"
    },
    "id": "ovKiiU8twj6E",
    "outputId": "b6a5e2b4-4e06-44b5-cb6d-f129715ade15"
   },
   "outputs": [
    {
     "name": "stdout",
     "output_type": "stream",
     "text": [
      "Epoch 1/3\n",
      "63/63 - 48s - loss: 5.6945 - val_loss: 5.4781 - 48s/epoch - 769ms/step\n",
      "Epoch 2/3\n",
      "63/63 - 38s - loss: 4.9920 - val_loss: 5.3707 - 38s/epoch - 596ms/step\n",
      "Epoch 3/3\n",
      "63/63 - 36s - loss: 4.7623 - val_loss: 5.1847 - 36s/epoch - 567ms/step\n",
      "TIME TOOK 2.43MIN\n"
     ]
    }
   ],
   "source": [
    "# fit model\n",
    "start = time.time()\n",
    "hist = model.fit([Ximage_train, Xtext_train], ytext_train, \n",
    "                  epochs=3, verbose=2, \n",
    "                  batch_size=256,\n",
    "                  validation_data=([Ximage_val, Xtext_val], ytext_val))\n",
    "end = time.time()\n",
    "print(\"TIME TOOK {:3.2f}MIN\".format((end - start )/60))"
   ]
  },
  {
   "cell_type": "code",
   "execution_count": 303,
   "metadata": {
    "colab": {
     "base_uri": "https://localhost:8080/"
    },
    "id": "6N3rBAHX3MOV",
    "outputId": "d0f2dc1d-85da-4217-ac72-d5382943d96c"
   },
   "outputs": [
    {
     "name": "stdout",
     "output_type": "stream",
     "text": [
      "(15890, 1024) (15890, 32) (15890, 1913)\n"
     ]
    }
   ],
   "source": [
    "print(Ximage_train.shape,Xtext_train.shape,ytext_train.shape)"
   ]
  },
  {
   "cell_type": "code",
   "execution_count": 304,
   "metadata": {
    "colab": {
     "base_uri": "https://localhost:8080/",
     "height": 279
    },
    "id": "qf2cPU7R3lV6",
    "outputId": "92d155bd-1e09-4ee7-ea2c-5f74939d4aac"
   },
   "outputs": [
    {
     "data": {
      "image/png": "[encoded data removed]",
      "text/plain": [
       "<Figure size 432x288 with 1 Axes>"
      ]
     },
     "metadata": {
      "needs_background": "light"
     },
     "output_type": "display_data"
    }
   ],
   "source": [
    "for label in [\"loss\",\"val_loss\"]:\n",
    "    plt.plot(hist.history[label],label=label)\n",
    "plt.legend()\n",
    "plt.xlabel(\"epochs\")\n",
    "plt.ylabel(\"loss\")\n",
    "plt.show()"
   ]
  },
  {
   "cell_type": "code",
   "execution_count": 305,
   "metadata": {
    "id": "njq8vg-667GF"
   },
   "outputs": [],
   "source": [
    "def predict_caption(image):\n",
    "\n",
    "    in_text = 'startseq'\n",
    "\n",
    "    for iword in range(maxlen):\n",
    "        sequence = tokenizer.texts_to_sequences([in_text])[0]\n",
    "        sequence = pad_sequences([sequence],maxlen)\n",
    "        yhat = model.predict([image,sequence],verbose=0)\n",
    "        yhat = np.argmax(yhat)\n",
    "        newword = index_word[yhat]\n",
    "        in_text += \" \" + newword\n",
    "        if newword == \"endseq\":\n",
    "            break\n",
    "    return(in_text)"
   ]
  },
  {
   "cell_type": "markdown",
   "metadata": {
    "id": "2-5XCvcS31KB"
   },
   "source": [
    "## **BLEU score**\n",
    "\n",
    "---"
   ]
  },
  {
   "cell_type": "code",
   "execution_count": 306,
   "metadata": {
    "id": "5VG40aDQ3_H0"
   },
   "outputs": [],
   "source": [
    "from nltk.translate.bleu_score import sentence_bleu \n",
    "from nltk.util import ngrams"
   ]
  },
  {
   "cell_type": "code",
   "execution_count": 307,
   "metadata": {
    "id": "Nds4oeXf4F4s"
   },
   "outputs": [],
   "source": [
    "n = 4"
   ]
  },
  {
   "cell_type": "code",
   "execution_count": null,
   "metadata": {
    "id": "IjqUSag-4WNs"
   },
   "outputs": [],
   "source": [
    "index_word = dict([(index,word) for word, index in tokenizer.word_index.items()])\n",
    "\n",
    "nkeep = 5\n",
    "pred_good, pred_bad, bleus = [], [], [] \n",
    "count = 0 \n",
    "for jpgfnm, image_feature, tokenized_text in zip(fnm_test,di_test,dt_test):\n",
    "    count += 1\n",
    "    if count % 200 == 0:\n",
    "        print(\"  {:4.2f}% is done..\".format(100*count/float(len(fnm_test))))\n",
    "        print(caption_true)\n",
    "        print(caption)\n",
    "        print()\n",
    "    \n",
    "    caption_true = [ index_word[i] for i in tokenized_text ]     \n",
    "    caption_true = caption_true[1:-1] ## remove startreg, and endreg\n",
    "    ## captions\n",
    "    caption = predict_caption(image_feature.reshape(1,len(image_feature)))\n",
    "    caption = caption.split()\n",
    "    caption = caption[1:-1]## remove startreg, and endreg\n",
    "    \n",
    "    bleu = sentence_bleu([caption_true],caption)\n",
    "    bleus.append(bleu)\n",
    "\n",
    "    # if(bleu > 0.7):\n",
    "    #   pred_good.append((count, caption_true, caption))\n",
    "\n",
    "    # if(bleu < 0.2 and bleu > 0.1):\n",
    "    #   pred_bad.append((count, caption_true, caption))"
   ]
  },
  {
   "cell_type": "code",
   "execution_count": 309,
   "metadata": {
    "colab": {
     "base_uri": "https://localhost:8080/"
    },
    "id": "U4eNMeG77_gT",
    "outputId": "e3d12a40-4afd-42e5-bf06-4d5cba452cb2"
   },
   "outputs": [
    {
     "name": "stdout",
     "output_type": "stream",
     "text": [
      "Mean BLEU 0.306\n"
     ]
    }
   ],
   "source": [
    "print(\"Mean BLEU {:4.3f}\".format(np.mean(bleus)))"
   ]
  },
  {
   "cell_type": "markdown",
   "metadata": {
    "id": "_mhD__Gfp7Pm"
   },
   "source": [
    "## **For layer : 'block3' with ROI**\n",
    "\n",
    "---"
   ]
  },
  {
   "cell_type": "code",
   "execution_count": 241,
   "metadata": {
    "colab": {
     "base_uri": "https://localhost:8080/"
    },
    "id": "BtHlyaswv9mZ",
    "outputId": "02d92885-8ac9-4614-88b2-5095a6dfdaad"
   },
   "outputs": [
    {
     "name": "stdout",
     "output_type": "stream",
     "text": [
      "Requirement already satisfied: pickle5 in /usr/local/lib/python3.7/dist-packages (0.0.12)\n"
     ]
    }
   ],
   "source": [
    "!pip install pickle5"
   ]
  },
  {
   "cell_type": "code",
   "execution_count": 243,
   "metadata": {
    "id": "maWmcepvoZJq"
   },
   "outputs": [],
   "source": [
    "import pickle5 as pickle\n",
    "\n",
    "with open(location + \"predicted_features/res_fmri_predictions.pickle\", 'rb') as x:\n",
    "  predicted_features = pickle.load(x)"
   ]
  },
  {
   "cell_type": "code",
   "execution_count": 244,
   "metadata": {
    "colab": {
     "base_uri": "https://localhost:8080/"
    },
    "id": "i4btgZbGoZMU",
    "outputId": "f9742086-eda5-430a-8490-24e97f9bcf6b"
   },
   "outputs": [
    {
     "data": {
      "text/plain": [
       "(1024,)"
      ]
     },
     "execution_count": 244,
     "metadata": {},
     "output_type": "execute_result"
    }
   ],
   "source": [
    "predicted_features['block3']['RHLOC']['COCO_train2014_000000420713']['Ridge'].shape"
   ]
  },
  {
   "cell_type": "code",
   "execution_count": 245,
   "metadata": {
    "colab": {
     "base_uri": "https://localhost:8080/"
    },
    "id": "lOPJno_Jwihy",
    "outputId": "07e6188d-2d47-4069-9e20-3f23d92ffd03"
   },
   "outputs": [
    {
     "data": {
      "text/plain": [
       "2000"
      ]
     },
     "execution_count": 245,
     "metadata": {},
     "output_type": "execute_result"
    }
   ],
   "source": [
    "len(predicted_features['block3']['RHLOC'].keys())"
   ]
  },
  {
   "cell_type": "code",
   "execution_count": null,
   "metadata": {
    "id": "YKYJTWKLw9l1"
   },
   "outputs": [],
   "source": [
    "bold_caption_predictions_dict = dict()\n",
    "bleus = []\n",
    "\n",
    "layer = 'block3'\n",
    "roi = 'RHLOC'\n",
    "\n",
    "for i, img in enumerate(predicted_features[layer][roi]):\n",
    "\n",
    "    gen_feat = predicted_features[layer][roi][img][\"Ridge\"]\n",
    "\n",
    "    if i > 20:\n",
    "      break\n",
    "\n",
    "    imgnum = int(img.split(\"2014_\")[1])\n",
    "\n",
    "    final_true_captions = []\n",
    "    true_captions = list(df_txt0[df_txt0[\"image_id\"] == imgnum][\"caption\"])\n",
    "\n",
    "    for cap in true_captions:\n",
    "      cap = cap.split()[1:-1]\n",
    "      final_true_captions.append(cap)\n",
    "\n",
    "    predicted_bold_cap = predict_caption(gen_feat.reshape(1,len(gen_feat))).split()[1:-1]\n",
    "\n",
    "    print(img)\n",
    "    print(final_true_captions)\n",
    "    print(predicted_bold_cap)\n",
    "    print()\n",
    "\n",
    "    nums = 0\n",
    "    bleu = 0\n",
    "    for cap in final_true_captions:\n",
    "      nums+=1\n",
    "      bleu += sentence_bleu(cap, predicted_bold_cap)\n",
    "\n",
    "    bleu /= nums\n",
    "\n",
    "    bleus.append(bleu)\n",
    "    bold_caption_predictions_dict[img] = (final_true_captions, predicted_bold_cap, bleu)"
   ]
  },
  {
   "cell_type": "code",
   "execution_count": null,
   "metadata": {
    "colab": {
     "base_uri": "https://localhost:8080/"
    },
    "id": "LU7it1sqDQGc",
    "outputId": "b90d8b7b-ecef-4c69-ea49-d053d5498c46"
   },
   "outputs": [
    {
     "name": "stdout",
     "output_type": "stream",
     "text": [
      "startseq man is in the the the grass endseq\n",
      "['startseq  woman walking down street while talking on cell phone endseq', 'startseq  girl pulling suitcase while walking and talking on her phone endseq', 'startseq  young woman on cellphone smiling and walking endseq', 'startseq  woman talking on her cell phone while walking endseq', 'startseq  The woman is talking on the phone while walking endseq']\n"
     ]
    }
   ],
   "source": [
    "print(predict_caption(images['COCO_train2014_000000474024'].reshape(1, len(images['COCO_train2014_000000474024']))))\n",
    "print(list(df_txt0[df_txt0['image_id'] == 474024][\"caption\"]))"
   ]
  },
  {
   "cell_type": "code",
   "execution_count": null,
   "metadata": {
    "colab": {
     "base_uri": "https://localhost:8080/"
    },
    "id": "dwqZpAx9w9yd",
    "outputId": "a5059f5e-b593-4426-95c9-cd9ba9c2e43e"
   },
   "outputs": [
    {
     "name": "stdout",
     "output_type": "stream",
     "text": [
      "0.0839710067735199\n"
     ]
    }
   ],
   "source": [
    "print(np.mean(bleus))"
   ]
  },
  {
   "cell_type": "code",
   "execution_count": null,
   "metadata": {
    "colab": {
     "base_uri": "https://localhost:8080/"
    },
    "id": "oYsGRj8h7iY7",
    "outputId": "f5083bed-e0e1-49be-c2a4-d99f23c071b8"
   },
   "outputs": [
    {
     "name": "stdout",
     "output_type": "stream",
     "text": [
      "[0.13566661, 0.0076401113, 0.017726662, 0.012896801, 0.061910976, 0.0009798411, 0.041651834, 0.042485528, 0.020374738, 0.0032796783]\n",
      "[0.12010412705089829, 0.01331735357549623, 0.03227803387023588, 0.020030955121612397, 0.041846363374747356, 0.0020434413193384064, 0.04317803151865221, 0.04558243946547429, 0.043458776612838285, 0.02163845066377]\n",
      "\n",
      "[0.15914449, 0.013905391, 0.007880969, 0.013393266, 0.011652103, 0.00037546913, 0.01686001, 0.041708983, 0.023554431, 0.0058337175]\n",
      "[0.12096740148909822, 0.016593148532781557, 0.024779179373040725, 0.01946584085937802, 0.036678064600368, 0.001548745022696231, 0.0451441633408279, 0.048588207968133595, 0.05272319007060107, 0.019309361955081112]\n"
     ]
    }
   ],
   "source": [
    "print(list(images['COCO_train2014_000000054001'][:10]))\n",
    "print(list(predicted_features[layer][roi]['COCO_train2014_000000054001'][\"Ridge\"][:10]))\n",
    "\n",
    "print()\n",
    "\n",
    "print(list(images['COCO_train2014_000000474024'][:10]))\n",
    "print(list(predicted_features[layer][roi]['COCO_train2014_000000474024'][\"Ridge\"][:10]))"
   ]
  },
  {
   "cell_type": "markdown",
   "metadata": {
    "id": "Xxi2pD6etr_s"
   },
   "source": [
    "## **For layer 3 Concatenated ROIs**\n",
    "\n",
    "---\n",
    "\n"
   ]
  },
  {
   "cell_type": "code",
   "execution_count": 246,
   "metadata": {
    "colab": {
     "base_uri": "https://localhost:8080/"
    },
    "id": "3fFibF-it7ai",
    "outputId": "8852b361-7367-4280-ec02-611ab18b3cfe"
   },
   "outputs": [
    {
     "name": "stdout",
     "output_type": "stream",
     "text": [
      "Requirement already satisfied: pickle5 in /usr/local/lib/python3.7/dist-packages (0.0.12)\n"
     ]
    }
   ],
   "source": [
    "!pip install pickle5"
   ]
  },
  {
   "cell_type": "code",
   "execution_count": 247,
   "metadata": {
    "id": "19U1kJYYt7ak"
   },
   "outputs": [],
   "source": [
    "import pickle5 as pickle\n",
    "\n",
    "with open(location + \"predicted_features/res_fmri__concat_predictions.pickle\", 'rb') as x:\n",
    "  predicted_features = pickle.load(x)"
   ]
  },
  {
   "cell_type": "code",
   "execution_count": 248,
   "metadata": {
    "colab": {
     "base_uri": "https://localhost:8080/"
    },
    "id": "NBKXutkHt7al",
    "outputId": "59a3afaa-bc3a-4f92-90cb-dcab306928f2"
   },
   "outputs": [
    {
     "data": {
      "text/plain": [
       "(1024,)"
      ]
     },
     "execution_count": 248,
     "metadata": {},
     "output_type": "execute_result"
    }
   ],
   "source": [
    "predicted_features['block3']['COCO_train2014_000000420713']['Ridge'].shape"
   ]
  },
  {
   "cell_type": "code",
   "execution_count": 249,
   "metadata": {
    "colab": {
     "base_uri": "https://localhost:8080/"
    },
    "id": "rQcvAY7Ft7al",
    "outputId": "b99a35d1-4a98-40af-fa2b-a9480030b55f"
   },
   "outputs": [
    {
     "data": {
      "text/plain": [
       "2000"
      ]
     },
     "execution_count": 249,
     "metadata": {},
     "output_type": "execute_result"
    }
   ],
   "source": [
    "len(predicted_features['block3'].keys())"
   ]
  },
  {
   "cell_type": "code",
   "execution_count": null,
   "metadata": {
    "id": "4cLGc5b_t7am"
   },
   "outputs": [],
   "source": [
    "bold_caption_predictions_dict = dict()\n",
    "bleus = []\n",
    "\n",
    "layer = 'block3'\n",
    "\n",
    "for i, img in enumerate(predicted_features[layer]):\n",
    "\n",
    "    gen_feat = predicted_features[layer][img][\"Ridge\"]\n",
    "\n",
    "    if i > 20:\n",
    "      break\n",
    "\n",
    "    imgnum = int(img.split(\"2014_\")[1])\n",
    "\n",
    "    final_true_captions = []\n",
    "    true_captions = list(df_txt0[df_txt0[\"image_id\"] == imgnum][\"caption\"])\n",
    "\n",
    "    for cap in true_captions:\n",
    "      cap = cap.split()[1:-1]\n",
    "      final_true_captions.append(cap)\n",
    "\n",
    "    predicted_bold_cap = predict_caption(gen_feat.reshape(1,len(gen_feat))).split()[1:-1]\n",
    "\n",
    "    print(img)\n",
    "    print(final_true_captions)\n",
    "    print(predicted_bold_cap)\n",
    "    print()\n",
    "\n",
    "    nums = 0\n",
    "    bleu = 0\n",
    "    for cap in final_true_captions:\n",
    "      nums+=1\n",
    "      bleu += sentence_bleu(cap, predicted_bold_cap)\n",
    "\n",
    "    bleu /= nums\n",
    "\n",
    "    bleus.append(bleu)\n",
    "    bold_caption_predictions_dict[img] = (final_true_captions, predicted_bold_cap, bleu)"
   ]
  },
  {
   "cell_type": "code",
   "execution_count": 251,
   "metadata": {
    "colab": {
     "base_uri": "https://localhost:8080/"
    },
    "id": "zwLag9DXuTOk",
    "outputId": "8fa5241d-b8d5-465b-91d9-ef12080537be"
   },
   "outputs": [
    {
     "name": "stdout",
     "output_type": "stream",
     "text": [
      "startseq man standing standing endseq\n",
      "['startseq  woman walking street talking cell phone endseq', 'startseq  girl pulling suitcase walking talking phone endseq', 'startseq  young woman cellphone smiling walking endseq', 'startseq  woman talking cell phone walking endseq', 'startseq  woman talking phone walking endseq']\n"
     ]
    }
   ],
   "source": [
    "print(predict_caption(images['COCO_train2014_000000474024'].reshape(1, len(images['COCO_train2014_000000474024']))))\n",
    "print(list(df_txt0[df_txt0['image_id'] == 474024][\"caption\"]))"
   ]
  },
  {
   "cell_type": "code",
   "execution_count": 254,
   "metadata": {
    "colab": {
     "base_uri": "https://localhost:8080/"
    },
    "id": "ojq18iqbuTOq",
    "outputId": "f45e9084-04e8-4804-8316-b0677f0632e6"
   },
   "outputs": [
    {
     "name": "stdout",
     "output_type": "stream",
     "text": [
      "[0.13566661, 0.0076401113, 0.017726662, 0.012896801, 0.061910976, 0.0009798411, 0.041651834, 0.042485528, 0.020374738, 0.0032796783]\n",
      "[0.11874090676797842, 0.013651430790951546, 0.03072602868891313, 0.01736810019713305, 0.04084855607606626, 0.0018790288741266459, 0.03987247986795489, 0.04675472490289553, 0.042073196764835105, 0.019309710594330377]\n",
      "\n",
      "[0.15914449, 0.013905391, 0.007880969, 0.013393266, 0.011652103, 0.00037546913, 0.01686001, 0.041708983, 0.023554431, 0.0058337175]\n",
      "[0.11855810063328594, 0.020034391850295066, 0.015692790248066024, 0.01605343347852888, 0.028936084807361838, 0.0011627199267124208, 0.041717893476709636, 0.047798504953570194, 0.0428192249932601, 0.014741126004569841]\n"
     ]
    }
   ],
   "source": [
    "print(list(images['COCO_train2014_000000054001'][:10]))\n",
    "print(list(predicted_features[layer]['COCO_train2014_000000054001'][\"Ridge\"][:10]))\n",
    "\n",
    "print()\n",
    "\n",
    "print(list(images['COCO_train2014_000000474024'][:10]))\n",
    "print(list(predicted_features[layer]['COCO_train2014_000000474024'][\"Ridge\"][:10]))"
   ]
  }
 ],
 "metadata": {
  "colab": {
   "collapsed_sections": [],
   "name": "lstm.ipynb",
   "provenance": []
  },
  "kernelspec": {
   "display_name": "Python 3 (ipykernel)",
   "language": "python",
   "name": "python3"
  },
  "language_info": {
   "codemirror_mode": {
    "name": "ipython",
    "version": 3
   },
   "file_extension": ".py",
   "mimetype": "text/x-python",
   "name": "python",
   "nbconvert_exporter": "python",
   "pygments_lexer": "ipython3",
   "version": "3.9.7"
  }
 },
 "nbformat": 4,
 "nbformat_minor": 1
}
