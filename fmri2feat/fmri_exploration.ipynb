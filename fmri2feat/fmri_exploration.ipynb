{
 "cells": [
  {
   "cell_type": "code",
   "execution_count": 1,
   "id": "f3f17f6c",
   "metadata": {},
   "outputs": [],
   "source": [
    "import h5py\n",
    "import numpy as np\n",
    "# from sympy import Matrix, init_printing\n",
    "# init_printing()\n",
    "import math\n",
    "import tables"
   ]
  },
  {
   "cell_type": "code",
   "execution_count": 21,
   "id": "3d5e4994",
   "metadata": {},
   "outputs": [],
   "source": [
    "csi1_tr1 = h5py.File('../data/BOLD5000/BOLD5000_ROIs/ROIs/CSI3/h5/CSI3_ROIs_TR4.h5')"
   ]
  },
  {
   "cell_type": "code",
   "execution_count": 22,
   "id": "f7d5579d",
   "metadata": {},
   "outputs": [
    {
     "data": {
      "text/plain": [
       "<KeysViewHDF5 ['LHEarlyVis', 'LHLOC', 'LHOPA', 'LHPPA', 'LHRSC', 'RHEarlyVis', 'RHLOC', 'RHOPA', 'RHPPA', 'RHRSC']>"
      ]
     },
     "execution_count": 22,
     "metadata": {},
     "output_type": "execute_result"
    }
   ],
   "source": [
    "csi1_tr1.keys()"
   ]
  },
  {
   "cell_type": "code",
   "execution_count": 23,
   "id": "896841d9",
   "metadata": {},
   "outputs": [],
   "source": [
    "check = np.array(csi1_tr1['LHEarlyVis'])"
   ]
  },
  {
   "cell_type": "code",
   "execution_count": 24,
   "id": "b19190a4",
   "metadata": {},
   "outputs": [
    {
     "data": {
      "text/plain": [
       "5254"
      ]
     },
     "execution_count": 24,
     "metadata": {},
     "output_type": "execute_result"
    }
   ],
   "source": [
    "len(check)"
   ]
  },
  {
   "cell_type": "code",
   "execution_count": 25,
   "id": "868431e7",
   "metadata": {},
   "outputs": [
    {
     "data": {
      "text/plain": [
       "522"
      ]
     },
     "execution_count": 25,
     "metadata": {},
     "output_type": "execute_result"
    }
   ],
   "source": [
    "len(check[7])"
   ]
  }
 ],
 "metadata": {
  "kernelspec": {
   "display_name": "Python 3 (ipykernel)",
   "language": "python",
   "name": "python3"
  },
  "language_info": {
   "codemirror_mode": {
    "name": "ipython",
    "version": 3
   },
   "file_extension": ".py",
   "mimetype": "text/x-python",
   "name": "python",
   "nbconvert_exporter": "python",
   "pygments_lexer": "ipython3",
   "version": "3.9.7"
  }
 },
 "nbformat": 4,
 "nbformat_minor": 5
}
