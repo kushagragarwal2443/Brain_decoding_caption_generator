{
 "cells": [
  {
   "cell_type": "code",
   "execution_count": 1,
   "id": "d5d8d4a6",
   "metadata": {},
   "outputs": [],
   "source": [
    "import numpy as np\n",
    "from scipy.io import loadmat\n",
    "from sklearn.model_selection import KFold\n",
    "from sklearn.model_selection import train_test_split\n",
    "from sklearn.linear_model import Ridge\n",
    "from scipy.stats import pearsonr\n",
    "from scipy import spatial"
   ]
  },
  {
   "cell_type": "code",
   "execution_count": 2,
   "id": "2857f745",
   "metadata": {},
   "outputs": [],
   "source": [
    "def pairwise_accuracy(actual, predicted):\n",
    "    true = 0\n",
    "    total = 0\n",
    "    \n",
    "    cnt = 0\n",
    "    for i in range(0,len(actual)):\n",
    "        print(cnt, end = \"\\r\")\n",
    "        for j in range(i+1, len(actual)):\n",
    "            total += 1\n",
    "\n",
    "            s1 = actual[i]\n",
    "            s2 = actual[j]\n",
    "            b1 = predicted[i]\n",
    "            b2 = predicted[j]\n",
    "\n",
    "            result1 = spatial.distance.cosine(s1, s2)\n",
    "            result2 = spatial.distance.cosine(b1, b2)\n",
    "            result3 = spatial.distance.cosine(s1, b2)\n",
    "            result4 = spatial.distance.cosine(s2, b1)\n",
    "\n",
    "            if(result1 + result2 < result3 + result4):\n",
    "                true += 1\n",
    "        cnt += 1\n",
    "\n",
    "    return(true/total)"
   ]
  },
  {
   "cell_type": "code",
   "execution_count": 3,
   "id": "eb99cfba",
   "metadata": {},
   "outputs": [],
   "source": [
    "def train(Y, X):\n",
    "    kf = KFold(n_splits=21)\n",
    "    \n",
    "    dataset_X = np.array(X.copy())\n",
    "    dataset_Y = np.array(Y.copy())\n",
    "    \n",
    "    actual = []\n",
    "    predicted = []\n",
    "\n",
    "    cnt = 0\n",
    "    for train_index, test_index in kf.split(dataset_X):\n",
    "\n",
    "        X_train, X_test = dataset_X[train_index], dataset_X[test_index]\n",
    "        y_train, y_test = dataset_Y[train_index], dataset_Y[test_index]\n",
    "           \n",
    "        model = Ridge(alpha=1.0)\n",
    "        model.fit(X_train,y_train)\n",
    "        \n",
    "        cnt += 1\n",
    "#         print(cnt)\n",
    "\n",
    "        y_pred = model.predict(X_test)\n",
    "        \n",
    "        actual.extend(y_test)\n",
    "        predicted.extend(y_pred)\n",
    "\n",
    "    return actual,predicted"
   ]
  },
  {
   "cell_type": "code",
   "execution_count": 4,
   "id": "d55b38d4",
   "metadata": {},
   "outputs": [],
   "source": [
    "data = np.load('../data/BOLD5000/COCO/features/visual_features/resnet_feat.npy',allow_pickle=True)\n",
    "d = dict(enumerate(data.flatten(), 1))[1]"
   ]
  },
  {
   "cell_type": "code",
   "execution_count": 5,
   "id": "1870bdc1",
   "metadata": {},
   "outputs": [],
   "source": [
    "layer = 'block1'"
   ]
  },
  {
   "cell_type": "code",
   "execution_count": 6,
   "id": "36b8d410",
   "metadata": {},
   "outputs": [],
   "source": [
    "file = open('../data/BOLD5000/ROIs/stim_lists/CSI01_stim_lists.txt','r')\n",
    "lines = file.readlines()\n",
    "\n",
    "COCO_images = []\n",
    "COCO_ind = []\n",
    "cnt = 0\n",
    "for line in lines:\n",
    "    if(line[0:4] == 'COCO'):\n",
    "        COCO_images.append(line.split('.')[0])\n",
    "        COCO_ind.append(cnt)\n",
    "    elif(line[0:8] == 'rep_COCO'):\n",
    "        COCO_images.append(line.split('.')[0][4:])\n",
    "        COCO_ind.append(cnt)\n",
    "    cnt += 1"
   ]
  },
  {
   "cell_type": "code",
   "execution_count": 7,
   "id": "4fc2bc82",
   "metadata": {},
   "outputs": [],
   "source": [
    "vis_feats = []\n",
    "for img in COCO_images:\n",
    "    vis_feats.append(d[img][layer])\n",
    "vis_feats = np.array(vis_feats)"
   ]
  },
  {
   "cell_type": "code",
   "execution_count": 8,
   "id": "20244aa5",
   "metadata": {},
   "outputs": [],
   "source": [
    "fmri_data = loadmat('../data/BOLD5000/ROIs/CSI1/mat/CSI1_ROIs_TR1.mat')\n",
    "ROIS = ['LHPPA', 'RHLOC', 'LHLOC', 'RHEarlyVis', 'RHRSC', 'RHOPA', 'RHPPA', 'LHEarlyVis', 'LHRSC', 'LHOPA']"
   ]
  },
  {
   "cell_type": "code",
   "execution_count": null,
   "id": "95e7bbf6",
   "metadata": {},
   "outputs": [
    {
     "name": "stdout",
     "output_type": "stream",
     "text": [
      "8"
     ]
    }
   ],
   "source": [
    "for roi in ROIS:\n",
    "    voxels = fmri_data[roi][COCO_ind]\n",
    "    actual,predicted = train(voxels,vis_feats)\n",
    "    acc = pairwise_accuracy(actual, predicted)\n",
    "    print(roi,acc)"
   ]
  },
  {
   "cell_type": "code",
   "execution_count": null,
   "id": "2e437c35",
   "metadata": {},
   "outputs": [],
   "source": []
  }
 ],
 "metadata": {
  "kernelspec": {
   "display_name": "Python 3",
   "language": "python",
   "name": "python3"
  },
  "language_info": {
   "codemirror_mode": {
    "name": "ipython",
    "version": 3
   },
   "file_extension": ".py",
   "mimetype": "text/x-python",
   "name": "python",
   "nbconvert_exporter": "python",
   "pygments_lexer": "ipython3",
   "version": "3.6.13"
  }
 },
 "nbformat": 4,
 "nbformat_minor": 5
}
